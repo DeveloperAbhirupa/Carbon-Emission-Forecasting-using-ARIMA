{
 "cells": [
  {
   "cell_type": "markdown",
   "metadata": {
    "_cell_guid": "da9ebe17-8c4c-483e-b762-6a1feb89cf63",
    "_uuid": "d7bb0a622b69c4b34370fc5544f0fe9095564cfc"
   },
   "source": [
    "## Table of Contents\n",
    "1.\tIntroduction\n",
    "2.\tTime series dataset\n",
    "3.\tImport libraries\n",
    "4.\tTime series dataset retrieving and visualization\n",
    "5.  Natural gas CO2 emission analysis\n",
    "    \n",
    "    5.1\tTest stationary\n",
    "        5.1.1 Graphically test stationary  \n",
    "        5.1.2 Test stationarity using Dickey-Fuller test\n",
    "        5.1.3 Transform the dataset to stationary\n",
    "6.\tFind optimal parameters and build SARIMA model\n",
    "7.\tValidating prediction\n",
    "8.  Forecasting \n",
    "9.\tConclusion"
   ]
  },
  {
   "cell_type": "markdown",
   "metadata": {
    "_cell_guid": "55c3624b-c700-434b-baab-8df1ee9bd214",
    "_uuid": "17e5425561b19b08274a01a4546a00473c1f41d9",
    "collapsed": true
   },
   "source": [
    "# 1) Introduction\n",
    "Time series is a collection of data points that are collected at constant time intervals. It is a dynamic or time dependent problem with or without increasing or decreasing trend, seasonality. Time series modeling is a powerful method to describe and extract information from time-based data and help to make informed decisions about future outcomes.\n",
    "\n",
    "This notebook explores how to retrieve csv times series dataset, visualizing time series dataset, how to transform dataset into times series, testing if the time series is stationary or not using graphical and Dickey-Fuller test statistic methods, how to transform time series to stationary, how to find optimal parameters to build seasonal Autoregressive Integrated Moving Average (SARIMA) model using grid search method, diagnosing time series prediction, validating the predictive power, forecasting 10 year future CO2 emission from power generation using natural gas.,  \n",
    "    \n",
    "To complete this time series analysis, I use the following articles that cover the fundamental concepts about time series modeling:\n",
    "\n",
    " [Time series forecasting with codes in Python](https://www.analyticsvidhya.com/blog/2016/02/time-series-forecasting-codes-python/).\n",
    "\n",
    "[Statistical forecasting: notes on regression and time series analysis](http://people.duke.edu/~rnau/411home.htm).\n",
    "  \n",
    "  [Time Series Forecasting: Creating a seasonal ARIMA model with Python ](http://www.seanabu.com/2016/03/22/time-series-seasonal-ARIMA-model-in-python/).\n",
    "  \n",
    " [Forecast a time series with ARIMA in Python](https://datascience.ibm.com/exchange/public/entry/view/815137c868b916821dec777bdc23013c).\n",
    " \n",
    " [A Guide to Time Series Forecasting with ARIMA in Python 3](https://www.digitalocean.com/community/tutorials/a-guide-to-time-series-forecasting-with-arima-in-python-3)\n"
   ]
  },
  {
   "cell_type": "markdown",
   "metadata": {
    "_cell_guid": "c9ca404b-20e2-46c0-80ab-5e755aa1beef",
    "_uuid": "639c042d5265c9306ce435fcf7c4d4ff8315948d"
   },
   "source": [
    "# 2) Time series dataset"
   ]
  },
  {
   "cell_type": "code",
   "execution_count": 1,
   "metadata": {},
   "outputs": [
    {
     "name": "stdout",
     "output_type": "stream",
     "text": [
      "3.7.6 (default, Jan  8 2020, 20:23:39) [MSC v.1916 64 bit (AMD64)]\n"
     ]
    }
   ],
   "source": [
    "import sys\n",
    "print(sys.version)"
   ]
  },
  {
   "cell_type": "markdown",
   "metadata": {},
   "source": []
  },
  {
   "cell_type": "markdown",
   "metadata": {
    "_cell_guid": "55412ca8-9db7-4323-aace-d32b488eb9f5",
    "_uuid": "6606723cc67c2637d1217fa1faf9aa4ed46facdf"
   },
   "source": [
    "I use a public dataset of monthly carbon dioxide emissions from electricity generation available at the Energy Information Administration and Jason McNeill. The dataset includes CO2 emissions from each energy resource starting January 1973 to July 2016 for reference click [here](https://www.kaggle.com/txtrouble/carbon-emissions/data). "
   ]
  },
  {
   "cell_type": "markdown",
   "metadata": {
    "_cell_guid": "a072582f-61a3-4970-87c1-087d0cf4cbc1",
    "_uuid": "5c949f69b74b4a79bf209f04bf48857fdca40dad"
   },
   "source": [
    "# 3)\tImport libraries"
   ]
  },
  {
   "cell_type": "code",
   "execution_count": 2,
   "metadata": {
    "_cell_guid": "8dbcdc53-32a4-427a-8d3b-a8786dfdae0c",
    "_uuid": "0ef003dd0e7c377d91e5f06128e580192bfd04f2"
   },
   "outputs": [],
   "source": [
    "%matplotlib inline\n",
    "import numpy as np\n",
    "import pandas as pd\n",
    "import matplotlib.pylab\n",
    "import matplotlib.pyplot as plt\n",
    "from matplotlib.pylab import rcParams\n",
    "rcParams['figure.figsize'] = 20, 16"
   ]
  },
  {
   "cell_type": "code",
   "execution_count": 3,
   "metadata": {
    "_cell_guid": "662b59dd-8188-4d89-89cc-c2dd2eec2da8",
    "_uuid": "3ea60e343a83f82fe07b843418abda35933d56c6"
   },
   "outputs": [],
   "source": [
    "import warnings\n",
    "import itertools\n",
    "warnings.filterwarnings(\"ignore\") # specify to ignore warning messages"
   ]
  },
  {
   "cell_type": "markdown",
   "metadata": {
    "_cell_guid": "fd6c6825-d588-4cfb-9e0b-4523b8d8cd3b",
    "_uuid": "e0507c284cddbd086bd398b868a730bec4e755cf"
   },
   "source": [
    "# 4)\tTime series dataset retrieving and visualization"
   ]
  },
  {
   "cell_type": "markdown",
   "metadata": {
    "_cell_guid": "122802e2-fefc-48e4-a786-54044b27f9b4",
    "_uuid": "98d34b83621ce542d64f5e84a438e53307575004"
   },
   "source": [
    "First, in the following cells, we will retrive the monthly CO2 emissions dataset then we will visualize the dataset to decide the type of model we will use to model and analyse our time series (ts)."
   ]
  },
  {
   "cell_type": "markdown",
   "metadata": {
    "_cell_guid": "9cec3e6e-85c8-47f7-965b-f0985a6758ad",
    "_uuid": "68a12cdf7728c681751a0f91f9386730e3cb5225"
   },
   "source": [
    "## 4.1\tTime series dataset retrieving"
   ]
  },
  {
   "cell_type": "code",
   "execution_count": 4,
   "metadata": {
    "_cell_guid": "7970043a-506b-45cd-bf7a-addfa82fd453",
    "_uuid": "9a368b11165c7685905671444bd994b09d18a324"
   },
   "outputs": [
    {
     "data": {
      "text/html": [
       "<div>\n",
       "<style scoped>\n",
       "    .dataframe tbody tr th:only-of-type {\n",
       "        vertical-align: middle;\n",
       "    }\n",
       "\n",
       "    .dataframe tbody tr th {\n",
       "        vertical-align: top;\n",
       "    }\n",
       "\n",
       "    .dataframe thead th {\n",
       "        text-align: right;\n",
       "    }\n",
       "</style>\n",
       "<table border=\"1\" class=\"dataframe\">\n",
       "  <thead>\n",
       "    <tr style=\"text-align: right;\">\n",
       "      <th></th>\n",
       "      <th>MSN</th>\n",
       "      <th>YYYYMM</th>\n",
       "      <th>Value</th>\n",
       "      <th>Column_Order</th>\n",
       "      <th>Description</th>\n",
       "      <th>Unit</th>\n",
       "    </tr>\n",
       "  </thead>\n",
       "  <tbody>\n",
       "    <tr>\n",
       "      <th>0</th>\n",
       "      <td>CLEIEUS</td>\n",
       "      <td>197301</td>\n",
       "      <td>72.076</td>\n",
       "      <td>1</td>\n",
       "      <td>Coal Electric Power Sector CO2 Emissions</td>\n",
       "      <td>Million Metric Tons of Carbon Dioxide</td>\n",
       "    </tr>\n",
       "    <tr>\n",
       "      <th>1</th>\n",
       "      <td>CLEIEUS</td>\n",
       "      <td>197302</td>\n",
       "      <td>64.442</td>\n",
       "      <td>1</td>\n",
       "      <td>Coal Electric Power Sector CO2 Emissions</td>\n",
       "      <td>Million Metric Tons of Carbon Dioxide</td>\n",
       "    </tr>\n",
       "    <tr>\n",
       "      <th>2</th>\n",
       "      <td>CLEIEUS</td>\n",
       "      <td>197303</td>\n",
       "      <td>64.084</td>\n",
       "      <td>1</td>\n",
       "      <td>Coal Electric Power Sector CO2 Emissions</td>\n",
       "      <td>Million Metric Tons of Carbon Dioxide</td>\n",
       "    </tr>\n",
       "    <tr>\n",
       "      <th>3</th>\n",
       "      <td>CLEIEUS</td>\n",
       "      <td>197304</td>\n",
       "      <td>60.842</td>\n",
       "      <td>1</td>\n",
       "      <td>Coal Electric Power Sector CO2 Emissions</td>\n",
       "      <td>Million Metric Tons of Carbon Dioxide</td>\n",
       "    </tr>\n",
       "    <tr>\n",
       "      <th>4</th>\n",
       "      <td>CLEIEUS</td>\n",
       "      <td>197305</td>\n",
       "      <td>61.798</td>\n",
       "      <td>1</td>\n",
       "      <td>Coal Electric Power Sector CO2 Emissions</td>\n",
       "      <td>Million Metric Tons of Carbon Dioxide</td>\n",
       "    </tr>\n",
       "  </tbody>\n",
       "</table>\n",
       "</div>"
      ],
      "text/plain": [
       "       MSN  YYYYMM   Value  Column_Order  \\\n",
       "0  CLEIEUS  197301  72.076             1   \n",
       "1  CLEIEUS  197302  64.442             1   \n",
       "2  CLEIEUS  197303  64.084             1   \n",
       "3  CLEIEUS  197304  60.842             1   \n",
       "4  CLEIEUS  197305  61.798             1   \n",
       "\n",
       "                                Description  \\\n",
       "0  Coal Electric Power Sector CO2 Emissions   \n",
       "1  Coal Electric Power Sector CO2 Emissions   \n",
       "2  Coal Electric Power Sector CO2 Emissions   \n",
       "3  Coal Electric Power Sector CO2 Emissions   \n",
       "4  Coal Electric Power Sector CO2 Emissions   \n",
       "\n",
       "                                    Unit  \n",
       "0  Million Metric Tons of Carbon Dioxide  \n",
       "1  Million Metric Tons of Carbon Dioxide  \n",
       "2  Million Metric Tons of Carbon Dioxide  \n",
       "3  Million Metric Tons of Carbon Dioxide  \n",
       "4  Million Metric Tons of Carbon Dioxide  "
      ]
     },
     "execution_count": 4,
     "metadata": {},
     "output_type": "execute_result"
    }
   ],
   "source": [
    "df = pd.read_csv(\"Data/MER_T12_06.csv\")\n",
    "df.head()"
   ]
  },
  {
   "cell_type": "code",
   "execution_count": 5,
   "metadata": {
    "_cell_guid": "3b19408c-0117-4695-aa7d-1d5c4047252c",
    "_uuid": "6eb3ba8d69283e8f3315439787a2a8c1d087c387"
   },
   "outputs": [
    {
     "name": "stdout",
     "output_type": "stream",
     "text": [
      "<class 'pandas.core.frame.DataFrame'>\n",
      "RangeIndex: 5094 entries, 0 to 5093\n",
      "Data columns (total 6 columns):\n",
      " #   Column        Non-Null Count  Dtype \n",
      "---  ------        --------------  ----- \n",
      " 0   MSN           5094 non-null   object\n",
      " 1   YYYYMM        5094 non-null   int64 \n",
      " 2   Value         5094 non-null   object\n",
      " 3   Column_Order  5094 non-null   int64 \n",
      " 4   Description   5094 non-null   object\n",
      " 5   Unit          5094 non-null   object\n",
      "dtypes: int64(2), object(4)\n",
      "memory usage: 238.9+ KB\n"
     ]
    }
   ],
   "source": [
    "df.info()"
   ]
  },
  {
   "cell_type": "markdown",
   "metadata": {
    "_cell_guid": "c475d0cc-2116-4462-9bc5-b39ea596d388",
    "_uuid": "ae5936d477677a494a11f3434b940eac819c6997",
    "collapsed": true
   },
   "source": [
    "The dataset has 6 columns where 2 of them are integer data type and 4 objects and 5096 observations. The above dataset retriving method only retrives the dataset as a dataframe that is not as a time series dataset. To read the dataset as a time series, we have to pass special arguments to the read_csv command as given below."
   ]
  },
  {
   "cell_type": "code",
   "execution_count": 6,
   "metadata": {
    "_cell_guid": "cb1d837e-6856-438d-86fd-8f4e4fd5ee47",
    "_uuid": "fabcebb9b35fa75c4245d65ce99d2498e22f0ba6"
   },
   "outputs": [
    {
     "data": {
      "text/html": [
       "<div>\n",
       "<style scoped>\n",
       "    .dataframe tbody tr th:only-of-type {\n",
       "        vertical-align: middle;\n",
       "    }\n",
       "\n",
       "    .dataframe tbody tr th {\n",
       "        vertical-align: top;\n",
       "    }\n",
       "\n",
       "    .dataframe thead th {\n",
       "        text-align: right;\n",
       "    }\n",
       "</style>\n",
       "<table border=\"1\" class=\"dataframe\">\n",
       "  <thead>\n",
       "    <tr style=\"text-align: right;\">\n",
       "      <th></th>\n",
       "      <th>MSN</th>\n",
       "      <th>Value</th>\n",
       "      <th>Column_Order</th>\n",
       "      <th>Description</th>\n",
       "      <th>Unit</th>\n",
       "    </tr>\n",
       "    <tr>\n",
       "      <th>YYYYMM</th>\n",
       "      <th></th>\n",
       "      <th></th>\n",
       "      <th></th>\n",
       "      <th></th>\n",
       "      <th></th>\n",
       "    </tr>\n",
       "  </thead>\n",
       "  <tbody>\n",
       "    <tr>\n",
       "      <th>1973-01-01</th>\n",
       "      <td>CLEIEUS</td>\n",
       "      <td>72.076</td>\n",
       "      <td>1</td>\n",
       "      <td>Coal Electric Power Sector CO2 Emissions</td>\n",
       "      <td>Million Metric Tons of Carbon Dioxide</td>\n",
       "    </tr>\n",
       "    <tr>\n",
       "      <th>1973-02-01</th>\n",
       "      <td>CLEIEUS</td>\n",
       "      <td>64.442</td>\n",
       "      <td>1</td>\n",
       "      <td>Coal Electric Power Sector CO2 Emissions</td>\n",
       "      <td>Million Metric Tons of Carbon Dioxide</td>\n",
       "    </tr>\n",
       "    <tr>\n",
       "      <th>1973-03-01</th>\n",
       "      <td>CLEIEUS</td>\n",
       "      <td>64.084</td>\n",
       "      <td>1</td>\n",
       "      <td>Coal Electric Power Sector CO2 Emissions</td>\n",
       "      <td>Million Metric Tons of Carbon Dioxide</td>\n",
       "    </tr>\n",
       "    <tr>\n",
       "      <th>1973-04-01</th>\n",
       "      <td>CLEIEUS</td>\n",
       "      <td>60.842</td>\n",
       "      <td>1</td>\n",
       "      <td>Coal Electric Power Sector CO2 Emissions</td>\n",
       "      <td>Million Metric Tons of Carbon Dioxide</td>\n",
       "    </tr>\n",
       "    <tr>\n",
       "      <th>1973-05-01</th>\n",
       "      <td>CLEIEUS</td>\n",
       "      <td>61.798</td>\n",
       "      <td>1</td>\n",
       "      <td>Coal Electric Power Sector CO2 Emissions</td>\n",
       "      <td>Million Metric Tons of Carbon Dioxide</td>\n",
       "    </tr>\n",
       "  </tbody>\n",
       "</table>\n",
       "</div>"
      ],
      "text/plain": [
       "                MSN   Value  Column_Order  \\\n",
       "YYYYMM                                      \n",
       "1973-01-01  CLEIEUS  72.076             1   \n",
       "1973-02-01  CLEIEUS  64.442             1   \n",
       "1973-03-01  CLEIEUS  64.084             1   \n",
       "1973-04-01  CLEIEUS  60.842             1   \n",
       "1973-05-01  CLEIEUS  61.798             1   \n",
       "\n",
       "                                         Description  \\\n",
       "YYYYMM                                                 \n",
       "1973-01-01  Coal Electric Power Sector CO2 Emissions   \n",
       "1973-02-01  Coal Electric Power Sector CO2 Emissions   \n",
       "1973-03-01  Coal Electric Power Sector CO2 Emissions   \n",
       "1973-04-01  Coal Electric Power Sector CO2 Emissions   \n",
       "1973-05-01  Coal Electric Power Sector CO2 Emissions   \n",
       "\n",
       "                                             Unit  \n",
       "YYYYMM                                             \n",
       "1973-01-01  Million Metric Tons of Carbon Dioxide  \n",
       "1973-02-01  Million Metric Tons of Carbon Dioxide  \n",
       "1973-03-01  Million Metric Tons of Carbon Dioxide  \n",
       "1973-04-01  Million Metric Tons of Carbon Dioxide  \n",
       "1973-05-01  Million Metric Tons of Carbon Dioxide  "
      ]
     },
     "execution_count": 6,
     "metadata": {},
     "output_type": "execute_result"
    }
   ],
   "source": [
    "dateparse = lambda x: pd.to_datetime(x, format='%Y%m', errors = 'coerce')\n",
    "df = pd.read_csv(\"Data/MER_T12_06.csv\", parse_dates=['YYYYMM'], index_col='YYYYMM', date_parser=dateparse) \n",
    "df.head()"
   ]
  },
  {
   "cell_type": "markdown",
   "metadata": {
    "_cell_guid": "cb6bde81-ce7c-408e-9def-6a35a4a0cc2d",
    "_uuid": "4035980fac38ea749cfa7d1e762d8da1d04dab46",
    "collapsed": true
   },
   "source": [
    "The arguments can be explained:\n",
    "- parse_dates: This is a key to identify the date time column. Example, the column name is ‘YYYYMM’.\n",
    "- index_col: This is a key that forces pandas to use the date time column as index.\n",
    "- date_parser: Converts an input string into datetime variable."
   ]
  },
  {
   "cell_type": "code",
   "execution_count": 7,
   "metadata": {
    "_cell_guid": "ade50f71-fada-49b0-95fa-e23d8dd3ad69",
    "_uuid": "e95fb969cfc7989b8252384d5b0e96f7918aef1f"
   },
   "outputs": [
    {
     "data": {
      "text/html": [
       "<div>\n",
       "<style scoped>\n",
       "    .dataframe tbody tr th:only-of-type {\n",
       "        vertical-align: middle;\n",
       "    }\n",
       "\n",
       "    .dataframe tbody tr th {\n",
       "        vertical-align: top;\n",
       "    }\n",
       "\n",
       "    .dataframe thead th {\n",
       "        text-align: right;\n",
       "    }\n",
       "</style>\n",
       "<table border=\"1\" class=\"dataframe\">\n",
       "  <thead>\n",
       "    <tr style=\"text-align: right;\">\n",
       "      <th></th>\n",
       "      <th>MSN</th>\n",
       "      <th>Value</th>\n",
       "      <th>Column_Order</th>\n",
       "      <th>Description</th>\n",
       "      <th>Unit</th>\n",
       "    </tr>\n",
       "    <tr>\n",
       "      <th>YYYYMM</th>\n",
       "      <th></th>\n",
       "      <th></th>\n",
       "      <th></th>\n",
       "      <th></th>\n",
       "      <th></th>\n",
       "    </tr>\n",
       "  </thead>\n",
       "  <tbody>\n",
       "    <tr>\n",
       "      <th>1973-01-01</th>\n",
       "      <td>CLEIEUS</td>\n",
       "      <td>72.076</td>\n",
       "      <td>1</td>\n",
       "      <td>Coal Electric Power Sector CO2 Emissions</td>\n",
       "      <td>Million Metric Tons of Carbon Dioxide</td>\n",
       "    </tr>\n",
       "    <tr>\n",
       "      <th>1973-02-01</th>\n",
       "      <td>CLEIEUS</td>\n",
       "      <td>64.442</td>\n",
       "      <td>1</td>\n",
       "      <td>Coal Electric Power Sector CO2 Emissions</td>\n",
       "      <td>Million Metric Tons of Carbon Dioxide</td>\n",
       "    </tr>\n",
       "    <tr>\n",
       "      <th>1973-03-01</th>\n",
       "      <td>CLEIEUS</td>\n",
       "      <td>64.084</td>\n",
       "      <td>1</td>\n",
       "      <td>Coal Electric Power Sector CO2 Emissions</td>\n",
       "      <td>Million Metric Tons of Carbon Dioxide</td>\n",
       "    </tr>\n",
       "    <tr>\n",
       "      <th>1973-04-01</th>\n",
       "      <td>CLEIEUS</td>\n",
       "      <td>60.842</td>\n",
       "      <td>1</td>\n",
       "      <td>Coal Electric Power Sector CO2 Emissions</td>\n",
       "      <td>Million Metric Tons of Carbon Dioxide</td>\n",
       "    </tr>\n",
       "    <tr>\n",
       "      <th>1973-05-01</th>\n",
       "      <td>CLEIEUS</td>\n",
       "      <td>61.798</td>\n",
       "      <td>1</td>\n",
       "      <td>Coal Electric Power Sector CO2 Emissions</td>\n",
       "      <td>Million Metric Tons of Carbon Dioxide</td>\n",
       "    </tr>\n",
       "    <tr>\n",
       "      <th>1973-06-01</th>\n",
       "      <td>CLEIEUS</td>\n",
       "      <td>66.538</td>\n",
       "      <td>1</td>\n",
       "      <td>Coal Electric Power Sector CO2 Emissions</td>\n",
       "      <td>Million Metric Tons of Carbon Dioxide</td>\n",
       "    </tr>\n",
       "    <tr>\n",
       "      <th>1973-07-01</th>\n",
       "      <td>CLEIEUS</td>\n",
       "      <td>72.626</td>\n",
       "      <td>1</td>\n",
       "      <td>Coal Electric Power Sector CO2 Emissions</td>\n",
       "      <td>Million Metric Tons of Carbon Dioxide</td>\n",
       "    </tr>\n",
       "    <tr>\n",
       "      <th>1973-08-01</th>\n",
       "      <td>CLEIEUS</td>\n",
       "      <td>75.181</td>\n",
       "      <td>1</td>\n",
       "      <td>Coal Electric Power Sector CO2 Emissions</td>\n",
       "      <td>Million Metric Tons of Carbon Dioxide</td>\n",
       "    </tr>\n",
       "    <tr>\n",
       "      <th>1973-09-01</th>\n",
       "      <td>CLEIEUS</td>\n",
       "      <td>68.397</td>\n",
       "      <td>1</td>\n",
       "      <td>Coal Electric Power Sector CO2 Emissions</td>\n",
       "      <td>Million Metric Tons of Carbon Dioxide</td>\n",
       "    </tr>\n",
       "    <tr>\n",
       "      <th>1973-10-01</th>\n",
       "      <td>CLEIEUS</td>\n",
       "      <td>67.668</td>\n",
       "      <td>1</td>\n",
       "      <td>Coal Electric Power Sector CO2 Emissions</td>\n",
       "      <td>Million Metric Tons of Carbon Dioxide</td>\n",
       "    </tr>\n",
       "    <tr>\n",
       "      <th>1973-11-01</th>\n",
       "      <td>CLEIEUS</td>\n",
       "      <td>67.021</td>\n",
       "      <td>1</td>\n",
       "      <td>Coal Electric Power Sector CO2 Emissions</td>\n",
       "      <td>Million Metric Tons of Carbon Dioxide</td>\n",
       "    </tr>\n",
       "    <tr>\n",
       "      <th>1973-12-01</th>\n",
       "      <td>CLEIEUS</td>\n",
       "      <td>71.118</td>\n",
       "      <td>1</td>\n",
       "      <td>Coal Electric Power Sector CO2 Emissions</td>\n",
       "      <td>Million Metric Tons of Carbon Dioxide</td>\n",
       "    </tr>\n",
       "    <tr>\n",
       "      <th>NaT</th>\n",
       "      <td>CLEIEUS</td>\n",
       "      <td>811.791</td>\n",
       "      <td>1</td>\n",
       "      <td>Coal Electric Power Sector CO2 Emissions</td>\n",
       "      <td>Million Metric Tons of Carbon Dioxide</td>\n",
       "    </tr>\n",
       "    <tr>\n",
       "      <th>1974-01-01</th>\n",
       "      <td>CLEIEUS</td>\n",
       "      <td>70.55</td>\n",
       "      <td>1</td>\n",
       "      <td>Coal Electric Power Sector CO2 Emissions</td>\n",
       "      <td>Million Metric Tons of Carbon Dioxide</td>\n",
       "    </tr>\n",
       "    <tr>\n",
       "      <th>1974-02-01</th>\n",
       "      <td>CLEIEUS</td>\n",
       "      <td>62.929</td>\n",
       "      <td>1</td>\n",
       "      <td>Coal Electric Power Sector CO2 Emissions</td>\n",
       "      <td>Million Metric Tons of Carbon Dioxide</td>\n",
       "    </tr>\n",
       "  </tbody>\n",
       "</table>\n",
       "</div>"
      ],
      "text/plain": [
       "                MSN    Value  Column_Order  \\\n",
       "YYYYMM                                       \n",
       "1973-01-01  CLEIEUS   72.076             1   \n",
       "1973-02-01  CLEIEUS   64.442             1   \n",
       "1973-03-01  CLEIEUS   64.084             1   \n",
       "1973-04-01  CLEIEUS   60.842             1   \n",
       "1973-05-01  CLEIEUS   61.798             1   \n",
       "1973-06-01  CLEIEUS   66.538             1   \n",
       "1973-07-01  CLEIEUS   72.626             1   \n",
       "1973-08-01  CLEIEUS   75.181             1   \n",
       "1973-09-01  CLEIEUS   68.397             1   \n",
       "1973-10-01  CLEIEUS   67.668             1   \n",
       "1973-11-01  CLEIEUS   67.021             1   \n",
       "1973-12-01  CLEIEUS   71.118             1   \n",
       "NaT         CLEIEUS  811.791             1   \n",
       "1974-01-01  CLEIEUS    70.55             1   \n",
       "1974-02-01  CLEIEUS   62.929             1   \n",
       "\n",
       "                                         Description  \\\n",
       "YYYYMM                                                 \n",
       "1973-01-01  Coal Electric Power Sector CO2 Emissions   \n",
       "1973-02-01  Coal Electric Power Sector CO2 Emissions   \n",
       "1973-03-01  Coal Electric Power Sector CO2 Emissions   \n",
       "1973-04-01  Coal Electric Power Sector CO2 Emissions   \n",
       "1973-05-01  Coal Electric Power Sector CO2 Emissions   \n",
       "1973-06-01  Coal Electric Power Sector CO2 Emissions   \n",
       "1973-07-01  Coal Electric Power Sector CO2 Emissions   \n",
       "1973-08-01  Coal Electric Power Sector CO2 Emissions   \n",
       "1973-09-01  Coal Electric Power Sector CO2 Emissions   \n",
       "1973-10-01  Coal Electric Power Sector CO2 Emissions   \n",
       "1973-11-01  Coal Electric Power Sector CO2 Emissions   \n",
       "1973-12-01  Coal Electric Power Sector CO2 Emissions   \n",
       "NaT         Coal Electric Power Sector CO2 Emissions   \n",
       "1974-01-01  Coal Electric Power Sector CO2 Emissions   \n",
       "1974-02-01  Coal Electric Power Sector CO2 Emissions   \n",
       "\n",
       "                                             Unit  \n",
       "YYYYMM                                             \n",
       "1973-01-01  Million Metric Tons of Carbon Dioxide  \n",
       "1973-02-01  Million Metric Tons of Carbon Dioxide  \n",
       "1973-03-01  Million Metric Tons of Carbon Dioxide  \n",
       "1973-04-01  Million Metric Tons of Carbon Dioxide  \n",
       "1973-05-01  Million Metric Tons of Carbon Dioxide  \n",
       "1973-06-01  Million Metric Tons of Carbon Dioxide  \n",
       "1973-07-01  Million Metric Tons of Carbon Dioxide  \n",
       "1973-08-01  Million Metric Tons of Carbon Dioxide  \n",
       "1973-09-01  Million Metric Tons of Carbon Dioxide  \n",
       "1973-10-01  Million Metric Tons of Carbon Dioxide  \n",
       "1973-11-01  Million Metric Tons of Carbon Dioxide  \n",
       "1973-12-01  Million Metric Tons of Carbon Dioxide  \n",
       "NaT         Million Metric Tons of Carbon Dioxide  \n",
       "1974-01-01  Million Metric Tons of Carbon Dioxide  \n",
       "1974-02-01  Million Metric Tons of Carbon Dioxide  "
      ]
     },
     "execution_count": 7,
     "metadata": {},
     "output_type": "execute_result"
    }
   ],
   "source": [
    "df.head(15)"
   ]
  },
  {
   "cell_type": "markdown",
   "metadata": {
    "_cell_guid": "1087fdbd-27ca-4a48-a375-add87ea646d5",
    "_uuid": "bfa2c790c95a284802af85d3125d2c9e4871d65d",
    "collapsed": true
   },
   "source": [
    "Total sum of CO2 emission from each energy group for every year is given as an observation that can be viewed in the NaT row. So, let us first identify and drop the non datetimeindex rows and also use ts to refere the time series dataset instead of the dataframe df. First, let us convert the index to datetime, coerce errors, and filter NaT"
   ]
  },
  {
   "cell_type": "code",
   "execution_count": 8,
   "metadata": {
    "_cell_guid": "23f28637-3305-4dea-baf8-7bbf366116a3",
    "_uuid": "885fd865a9e00b87fb11ed074374dda9a08b213e"
   },
   "outputs": [
    {
     "data": {
      "text/html": [
       "<div>\n",
       "<style scoped>\n",
       "    .dataframe tbody tr th:only-of-type {\n",
       "        vertical-align: middle;\n",
       "    }\n",
       "\n",
       "    .dataframe tbody tr th {\n",
       "        vertical-align: top;\n",
       "    }\n",
       "\n",
       "    .dataframe thead th {\n",
       "        text-align: right;\n",
       "    }\n",
       "</style>\n",
       "<table border=\"1\" class=\"dataframe\">\n",
       "  <thead>\n",
       "    <tr style=\"text-align: right;\">\n",
       "      <th></th>\n",
       "      <th>MSN</th>\n",
       "      <th>Value</th>\n",
       "      <th>Column_Order</th>\n",
       "      <th>Description</th>\n",
       "      <th>Unit</th>\n",
       "    </tr>\n",
       "    <tr>\n",
       "      <th>YYYYMM</th>\n",
       "      <th></th>\n",
       "      <th></th>\n",
       "      <th></th>\n",
       "      <th></th>\n",
       "      <th></th>\n",
       "    </tr>\n",
       "  </thead>\n",
       "  <tbody>\n",
       "    <tr>\n",
       "      <th>1973-01-01</th>\n",
       "      <td>CLEIEUS</td>\n",
       "      <td>72.076</td>\n",
       "      <td>1</td>\n",
       "      <td>Coal Electric Power Sector CO2 Emissions</td>\n",
       "      <td>Million Metric Tons of Carbon Dioxide</td>\n",
       "    </tr>\n",
       "    <tr>\n",
       "      <th>1973-02-01</th>\n",
       "      <td>CLEIEUS</td>\n",
       "      <td>64.442</td>\n",
       "      <td>1</td>\n",
       "      <td>Coal Electric Power Sector CO2 Emissions</td>\n",
       "      <td>Million Metric Tons of Carbon Dioxide</td>\n",
       "    </tr>\n",
       "    <tr>\n",
       "      <th>1973-03-01</th>\n",
       "      <td>CLEIEUS</td>\n",
       "      <td>64.084</td>\n",
       "      <td>1</td>\n",
       "      <td>Coal Electric Power Sector CO2 Emissions</td>\n",
       "      <td>Million Metric Tons of Carbon Dioxide</td>\n",
       "    </tr>\n",
       "    <tr>\n",
       "      <th>1973-04-01</th>\n",
       "      <td>CLEIEUS</td>\n",
       "      <td>60.842</td>\n",
       "      <td>1</td>\n",
       "      <td>Coal Electric Power Sector CO2 Emissions</td>\n",
       "      <td>Million Metric Tons of Carbon Dioxide</td>\n",
       "    </tr>\n",
       "    <tr>\n",
       "      <th>1973-05-01</th>\n",
       "      <td>CLEIEUS</td>\n",
       "      <td>61.798</td>\n",
       "      <td>1</td>\n",
       "      <td>Coal Electric Power Sector CO2 Emissions</td>\n",
       "      <td>Million Metric Tons of Carbon Dioxide</td>\n",
       "    </tr>\n",
       "    <tr>\n",
       "      <th>1973-06-01</th>\n",
       "      <td>CLEIEUS</td>\n",
       "      <td>66.538</td>\n",
       "      <td>1</td>\n",
       "      <td>Coal Electric Power Sector CO2 Emissions</td>\n",
       "      <td>Million Metric Tons of Carbon Dioxide</td>\n",
       "    </tr>\n",
       "    <tr>\n",
       "      <th>1973-07-01</th>\n",
       "      <td>CLEIEUS</td>\n",
       "      <td>72.626</td>\n",
       "      <td>1</td>\n",
       "      <td>Coal Electric Power Sector CO2 Emissions</td>\n",
       "      <td>Million Metric Tons of Carbon Dioxide</td>\n",
       "    </tr>\n",
       "    <tr>\n",
       "      <th>1973-08-01</th>\n",
       "      <td>CLEIEUS</td>\n",
       "      <td>75.181</td>\n",
       "      <td>1</td>\n",
       "      <td>Coal Electric Power Sector CO2 Emissions</td>\n",
       "      <td>Million Metric Tons of Carbon Dioxide</td>\n",
       "    </tr>\n",
       "    <tr>\n",
       "      <th>1973-09-01</th>\n",
       "      <td>CLEIEUS</td>\n",
       "      <td>68.397</td>\n",
       "      <td>1</td>\n",
       "      <td>Coal Electric Power Sector CO2 Emissions</td>\n",
       "      <td>Million Metric Tons of Carbon Dioxide</td>\n",
       "    </tr>\n",
       "    <tr>\n",
       "      <th>1973-10-01</th>\n",
       "      <td>CLEIEUS</td>\n",
       "      <td>67.668</td>\n",
       "      <td>1</td>\n",
       "      <td>Coal Electric Power Sector CO2 Emissions</td>\n",
       "      <td>Million Metric Tons of Carbon Dioxide</td>\n",
       "    </tr>\n",
       "    <tr>\n",
       "      <th>1973-11-01</th>\n",
       "      <td>CLEIEUS</td>\n",
       "      <td>67.021</td>\n",
       "      <td>1</td>\n",
       "      <td>Coal Electric Power Sector CO2 Emissions</td>\n",
       "      <td>Million Metric Tons of Carbon Dioxide</td>\n",
       "    </tr>\n",
       "    <tr>\n",
       "      <th>1973-12-01</th>\n",
       "      <td>CLEIEUS</td>\n",
       "      <td>71.118</td>\n",
       "      <td>1</td>\n",
       "      <td>Coal Electric Power Sector CO2 Emissions</td>\n",
       "      <td>Million Metric Tons of Carbon Dioxide</td>\n",
       "    </tr>\n",
       "    <tr>\n",
       "      <th>1974-01-01</th>\n",
       "      <td>CLEIEUS</td>\n",
       "      <td>70.55</td>\n",
       "      <td>1</td>\n",
       "      <td>Coal Electric Power Sector CO2 Emissions</td>\n",
       "      <td>Million Metric Tons of Carbon Dioxide</td>\n",
       "    </tr>\n",
       "    <tr>\n",
       "      <th>1974-02-01</th>\n",
       "      <td>CLEIEUS</td>\n",
       "      <td>62.929</td>\n",
       "      <td>1</td>\n",
       "      <td>Coal Electric Power Sector CO2 Emissions</td>\n",
       "      <td>Million Metric Tons of Carbon Dioxide</td>\n",
       "    </tr>\n",
       "    <tr>\n",
       "      <th>1974-03-01</th>\n",
       "      <td>CLEIEUS</td>\n",
       "      <td>64.519</td>\n",
       "      <td>1</td>\n",
       "      <td>Coal Electric Power Sector CO2 Emissions</td>\n",
       "      <td>Million Metric Tons of Carbon Dioxide</td>\n",
       "    </tr>\n",
       "  </tbody>\n",
       "</table>\n",
       "</div>"
      ],
      "text/plain": [
       "                MSN   Value  Column_Order  \\\n",
       "YYYYMM                                      \n",
       "1973-01-01  CLEIEUS  72.076             1   \n",
       "1973-02-01  CLEIEUS  64.442             1   \n",
       "1973-03-01  CLEIEUS  64.084             1   \n",
       "1973-04-01  CLEIEUS  60.842             1   \n",
       "1973-05-01  CLEIEUS  61.798             1   \n",
       "1973-06-01  CLEIEUS  66.538             1   \n",
       "1973-07-01  CLEIEUS  72.626             1   \n",
       "1973-08-01  CLEIEUS  75.181             1   \n",
       "1973-09-01  CLEIEUS  68.397             1   \n",
       "1973-10-01  CLEIEUS  67.668             1   \n",
       "1973-11-01  CLEIEUS  67.021             1   \n",
       "1973-12-01  CLEIEUS  71.118             1   \n",
       "1974-01-01  CLEIEUS   70.55             1   \n",
       "1974-02-01  CLEIEUS  62.929             1   \n",
       "1974-03-01  CLEIEUS  64.519             1   \n",
       "\n",
       "                                         Description  \\\n",
       "YYYYMM                                                 \n",
       "1973-01-01  Coal Electric Power Sector CO2 Emissions   \n",
       "1973-02-01  Coal Electric Power Sector CO2 Emissions   \n",
       "1973-03-01  Coal Electric Power Sector CO2 Emissions   \n",
       "1973-04-01  Coal Electric Power Sector CO2 Emissions   \n",
       "1973-05-01  Coal Electric Power Sector CO2 Emissions   \n",
       "1973-06-01  Coal Electric Power Sector CO2 Emissions   \n",
       "1973-07-01  Coal Electric Power Sector CO2 Emissions   \n",
       "1973-08-01  Coal Electric Power Sector CO2 Emissions   \n",
       "1973-09-01  Coal Electric Power Sector CO2 Emissions   \n",
       "1973-10-01  Coal Electric Power Sector CO2 Emissions   \n",
       "1973-11-01  Coal Electric Power Sector CO2 Emissions   \n",
       "1973-12-01  Coal Electric Power Sector CO2 Emissions   \n",
       "1974-01-01  Coal Electric Power Sector CO2 Emissions   \n",
       "1974-02-01  Coal Electric Power Sector CO2 Emissions   \n",
       "1974-03-01  Coal Electric Power Sector CO2 Emissions   \n",
       "\n",
       "                                             Unit  \n",
       "YYYYMM                                             \n",
       "1973-01-01  Million Metric Tons of Carbon Dioxide  \n",
       "1973-02-01  Million Metric Tons of Carbon Dioxide  \n",
       "1973-03-01  Million Metric Tons of Carbon Dioxide  \n",
       "1973-04-01  Million Metric Tons of Carbon Dioxide  \n",
       "1973-05-01  Million Metric Tons of Carbon Dioxide  \n",
       "1973-06-01  Million Metric Tons of Carbon Dioxide  \n",
       "1973-07-01  Million Metric Tons of Carbon Dioxide  \n",
       "1973-08-01  Million Metric Tons of Carbon Dioxide  \n",
       "1973-09-01  Million Metric Tons of Carbon Dioxide  \n",
       "1973-10-01  Million Metric Tons of Carbon Dioxide  \n",
       "1973-11-01  Million Metric Tons of Carbon Dioxide  \n",
       "1973-12-01  Million Metric Tons of Carbon Dioxide  \n",
       "1974-01-01  Million Metric Tons of Carbon Dioxide  \n",
       "1974-02-01  Million Metric Tons of Carbon Dioxide  \n",
       "1974-03-01  Million Metric Tons of Carbon Dioxide  "
      ]
     },
     "execution_count": 8,
     "metadata": {},
     "output_type": "execute_result"
    }
   ],
   "source": [
    "ts = df[pd.Series(pd.to_datetime(df.index, errors='coerce')).notnull().values]\n",
    "ts.head(15)"
   ]
  },
  {
   "cell_type": "code",
   "execution_count": 9,
   "metadata": {
    "_cell_guid": "99572437-ed6c-48df-8564-e3853907d682",
    "_uuid": "25546c317b2dbad55f998367627857b7f85c711b"
   },
   "outputs": [
    {
     "data": {
      "text/plain": [
       "MSN             object\n",
       "Value           object\n",
       "Column_Order     int64\n",
       "Description     object\n",
       "Unit            object\n",
       "dtype: object"
      ]
     },
     "execution_count": 9,
     "metadata": {},
     "output_type": "execute_result"
    }
   ],
   "source": [
    "ts.dtypes"
   ]
  },
  {
   "cell_type": "markdown",
   "metadata": {
    "_cell_guid": "be459b92-339c-41bc-9fa2-5a848b1d2237",
    "_uuid": "251d5fd37a72aaec26d3b374953293d301c6355f",
    "collapsed": true
   },
   "source": [
    "As we can see from the ts data type, the emission value is represented as an object. Let us first convert the emision value into numeric value as follows"
   ]
  },
  {
   "cell_type": "code",
   "execution_count": 10,
   "metadata": {
    "_cell_guid": "20ce2c63-0bf9-459e-86e6-3df2a6c6dab9",
    "_uuid": "8284f22677677a5b7199c8065ead4b5111fa6962"
   },
   "outputs": [
    {
     "data": {
      "text/html": [
       "<div>\n",
       "<style scoped>\n",
       "    .dataframe tbody tr th:only-of-type {\n",
       "        vertical-align: middle;\n",
       "    }\n",
       "\n",
       "    .dataframe tbody tr th {\n",
       "        vertical-align: top;\n",
       "    }\n",
       "\n",
       "    .dataframe thead th {\n",
       "        text-align: right;\n",
       "    }\n",
       "</style>\n",
       "<table border=\"1\" class=\"dataframe\">\n",
       "  <thead>\n",
       "    <tr style=\"text-align: right;\">\n",
       "      <th></th>\n",
       "      <th>MSN</th>\n",
       "      <th>Value</th>\n",
       "      <th>Column_Order</th>\n",
       "      <th>Description</th>\n",
       "      <th>Unit</th>\n",
       "    </tr>\n",
       "    <tr>\n",
       "      <th>YYYYMM</th>\n",
       "      <th></th>\n",
       "      <th></th>\n",
       "      <th></th>\n",
       "      <th></th>\n",
       "      <th></th>\n",
       "    </tr>\n",
       "  </thead>\n",
       "  <tbody>\n",
       "    <tr>\n",
       "      <th>1973-01-01</th>\n",
       "      <td>CLEIEUS</td>\n",
       "      <td>72.076</td>\n",
       "      <td>1</td>\n",
       "      <td>Coal Electric Power Sector CO2 Emissions</td>\n",
       "      <td>Million Metric Tons of Carbon Dioxide</td>\n",
       "    </tr>\n",
       "    <tr>\n",
       "      <th>1973-02-01</th>\n",
       "      <td>CLEIEUS</td>\n",
       "      <td>64.442</td>\n",
       "      <td>1</td>\n",
       "      <td>Coal Electric Power Sector CO2 Emissions</td>\n",
       "      <td>Million Metric Tons of Carbon Dioxide</td>\n",
       "    </tr>\n",
       "    <tr>\n",
       "      <th>1973-03-01</th>\n",
       "      <td>CLEIEUS</td>\n",
       "      <td>64.084</td>\n",
       "      <td>1</td>\n",
       "      <td>Coal Electric Power Sector CO2 Emissions</td>\n",
       "      <td>Million Metric Tons of Carbon Dioxide</td>\n",
       "    </tr>\n",
       "    <tr>\n",
       "      <th>1973-04-01</th>\n",
       "      <td>CLEIEUS</td>\n",
       "      <td>60.842</td>\n",
       "      <td>1</td>\n",
       "      <td>Coal Electric Power Sector CO2 Emissions</td>\n",
       "      <td>Million Metric Tons of Carbon Dioxide</td>\n",
       "    </tr>\n",
       "    <tr>\n",
       "      <th>1973-05-01</th>\n",
       "      <td>CLEIEUS</td>\n",
       "      <td>61.798</td>\n",
       "      <td>1</td>\n",
       "      <td>Coal Electric Power Sector CO2 Emissions</td>\n",
       "      <td>Million Metric Tons of Carbon Dioxide</td>\n",
       "    </tr>\n",
       "  </tbody>\n",
       "</table>\n",
       "</div>"
      ],
      "text/plain": [
       "                MSN   Value  Column_Order  \\\n",
       "YYYYMM                                      \n",
       "1973-01-01  CLEIEUS  72.076             1   \n",
       "1973-02-01  CLEIEUS  64.442             1   \n",
       "1973-03-01  CLEIEUS  64.084             1   \n",
       "1973-04-01  CLEIEUS  60.842             1   \n",
       "1973-05-01  CLEIEUS  61.798             1   \n",
       "\n",
       "                                         Description  \\\n",
       "YYYYMM                                                 \n",
       "1973-01-01  Coal Electric Power Sector CO2 Emissions   \n",
       "1973-02-01  Coal Electric Power Sector CO2 Emissions   \n",
       "1973-03-01  Coal Electric Power Sector CO2 Emissions   \n",
       "1973-04-01  Coal Electric Power Sector CO2 Emissions   \n",
       "1973-05-01  Coal Electric Power Sector CO2 Emissions   \n",
       "\n",
       "                                             Unit  \n",
       "YYYYMM                                             \n",
       "1973-01-01  Million Metric Tons of Carbon Dioxide  \n",
       "1973-02-01  Million Metric Tons of Carbon Dioxide  \n",
       "1973-03-01  Million Metric Tons of Carbon Dioxide  \n",
       "1973-04-01  Million Metric Tons of Carbon Dioxide  \n",
       "1973-05-01  Million Metric Tons of Carbon Dioxide  "
      ]
     },
     "execution_count": 10,
     "metadata": {},
     "output_type": "execute_result"
    }
   ],
   "source": [
    "#ss = ts.copy(deep=True)\n",
    "ts['Value'] = pd.to_numeric(ts['Value'] , errors='coerce')\n",
    "ts.head()"
   ]
  },
  {
   "cell_type": "code",
   "execution_count": 11,
   "metadata": {
    "_cell_guid": "6f4b23a3-4f42-4a5c-97ed-7d97803ce78a",
    "_uuid": "0aa7e24f786110a005f16fb2dece9b83d56b89d1"
   },
   "outputs": [
    {
     "name": "stdout",
     "output_type": "stream",
     "text": [
      "<class 'pandas.core.frame.DataFrame'>\n",
      "DatetimeIndex: 4707 entries, 1973-01-01 to 2016-07-01\n",
      "Data columns (total 5 columns):\n",
      " #   Column        Non-Null Count  Dtype  \n",
      "---  ------        --------------  -----  \n",
      " 0   MSN           4707 non-null   object \n",
      " 1   Value         4323 non-null   float64\n",
      " 2   Column_Order  4707 non-null   int64  \n",
      " 3   Description   4707 non-null   object \n",
      " 4   Unit          4707 non-null   object \n",
      "dtypes: float64(1), int64(1), object(3)\n",
      "memory usage: 220.6+ KB\n"
     ]
    }
   ],
   "source": [
    "ts.info()"
   ]
  },
  {
   "cell_type": "markdown",
   "metadata": {
    "_cell_guid": "13d1a810-61ca-4d9e-841d-684bd83427ff",
    "_uuid": "98fd20d014ec2ebdb18385f5153fb6cc5b723e59"
   },
   "source": [
    "4323 observations have emissions value and therefore, we need to drop the empty rows emissions value. "
   ]
  },
  {
   "cell_type": "code",
   "execution_count": 12,
   "metadata": {
    "_cell_guid": "e159dd06-cf56-4e45-ad17-323da99b411e",
    "_uuid": "69150ccf50da0b603c15eca8ef60f1ac8cce8f00"
   },
   "outputs": [],
   "source": [
    "ts.dropna(inplace = True)"
   ]
  },
  {
   "cell_type": "markdown",
   "metadata": {
    "_cell_guid": "9af4ce9e-7d1f-4afe-9b56-efa7cf8573fc",
    "_uuid": "798ec6db97c6709c19b1b008e9e0d87952e8f191"
   },
   "source": [
    "## 4.2\tTime series dataset visualization"
   ]
  },
  {
   "cell_type": "markdown",
   "metadata": {
    "_cell_guid": "f6ba2868-9d7b-4291-adcd-528d4bfbcff1",
    "_uuid": "1a7b23752775ebd0a468b3e3e5c1f95986308939"
   },
   "source": [
    "The dataset has 8 energy sources of CO2 emission. In the following cell, we will group the CO2 Emission dataset based on the type of energy source."
   ]
  },
  {
   "cell_type": "code",
   "execution_count": 13,
   "metadata": {
    "_cell_guid": "aca21a9b-da7d-4055-ad34-d1e997097a0e",
    "_uuid": "40dfa4a4793ff3c0aca007799920eae595d25eb3"
   },
   "outputs": [
    {
     "data": {
      "text/html": [
       "<div>\n",
       "<style scoped>\n",
       "    .dataframe tbody tr th:only-of-type {\n",
       "        vertical-align: middle;\n",
       "    }\n",
       "\n",
       "    .dataframe tbody tr th {\n",
       "        vertical-align: top;\n",
       "    }\n",
       "\n",
       "    .dataframe thead th {\n",
       "        text-align: right;\n",
       "    }\n",
       "</style>\n",
       "<table border=\"1\" class=\"dataframe\">\n",
       "  <thead>\n",
       "    <tr style=\"text-align: right;\">\n",
       "      <th></th>\n",
       "      <th>MSN</th>\n",
       "      <th>Value</th>\n",
       "      <th>Column_Order</th>\n",
       "      <th>Description</th>\n",
       "      <th>Unit</th>\n",
       "    </tr>\n",
       "    <tr>\n",
       "      <th>YYYYMM</th>\n",
       "      <th></th>\n",
       "      <th></th>\n",
       "      <th></th>\n",
       "      <th></th>\n",
       "      <th></th>\n",
       "    </tr>\n",
       "  </thead>\n",
       "  <tbody>\n",
       "    <tr>\n",
       "      <th>1973-01-01</th>\n",
       "      <td>CLEIEUS</td>\n",
       "      <td>72.076</td>\n",
       "      <td>1</td>\n",
       "      <td>Coal Electric Power Sector CO2 Emissions</td>\n",
       "      <td>Million Metric Tons of Carbon Dioxide</td>\n",
       "    </tr>\n",
       "    <tr>\n",
       "      <th>1973-02-01</th>\n",
       "      <td>CLEIEUS</td>\n",
       "      <td>64.442</td>\n",
       "      <td>1</td>\n",
       "      <td>Coal Electric Power Sector CO2 Emissions</td>\n",
       "      <td>Million Metric Tons of Carbon Dioxide</td>\n",
       "    </tr>\n",
       "    <tr>\n",
       "      <th>1973-03-01</th>\n",
       "      <td>CLEIEUS</td>\n",
       "      <td>64.084</td>\n",
       "      <td>1</td>\n",
       "      <td>Coal Electric Power Sector CO2 Emissions</td>\n",
       "      <td>Million Metric Tons of Carbon Dioxide</td>\n",
       "    </tr>\n",
       "    <tr>\n",
       "      <th>1973-04-01</th>\n",
       "      <td>CLEIEUS</td>\n",
       "      <td>60.842</td>\n",
       "      <td>1</td>\n",
       "      <td>Coal Electric Power Sector CO2 Emissions</td>\n",
       "      <td>Million Metric Tons of Carbon Dioxide</td>\n",
       "    </tr>\n",
       "    <tr>\n",
       "      <th>1973-05-01</th>\n",
       "      <td>CLEIEUS</td>\n",
       "      <td>61.798</td>\n",
       "      <td>1</td>\n",
       "      <td>Coal Electric Power Sector CO2 Emissions</td>\n",
       "      <td>Million Metric Tons of Carbon Dioxide</td>\n",
       "    </tr>\n",
       "    <tr>\n",
       "      <th>1973-01-01</th>\n",
       "      <td>NNEIEUS</td>\n",
       "      <td>12.175</td>\n",
       "      <td>2</td>\n",
       "      <td>Natural Gas Electric Power Sector CO2 Emissions</td>\n",
       "      <td>Million Metric Tons of Carbon Dioxide</td>\n",
       "    </tr>\n",
       "    <tr>\n",
       "      <th>1973-02-01</th>\n",
       "      <td>NNEIEUS</td>\n",
       "      <td>11.708</td>\n",
       "      <td>2</td>\n",
       "      <td>Natural Gas Electric Power Sector CO2 Emissions</td>\n",
       "      <td>Million Metric Tons of Carbon Dioxide</td>\n",
       "    </tr>\n",
       "    <tr>\n",
       "      <th>1973-03-01</th>\n",
       "      <td>NNEIEUS</td>\n",
       "      <td>13.994</td>\n",
       "      <td>2</td>\n",
       "      <td>Natural Gas Electric Power Sector CO2 Emissions</td>\n",
       "      <td>Million Metric Tons of Carbon Dioxide</td>\n",
       "    </tr>\n",
       "    <tr>\n",
       "      <th>1973-04-01</th>\n",
       "      <td>NNEIEUS</td>\n",
       "      <td>14.627</td>\n",
       "      <td>2</td>\n",
       "      <td>Natural Gas Electric Power Sector CO2 Emissions</td>\n",
       "      <td>Million Metric Tons of Carbon Dioxide</td>\n",
       "    </tr>\n",
       "    <tr>\n",
       "      <th>1973-05-01</th>\n",
       "      <td>NNEIEUS</td>\n",
       "      <td>17.344</td>\n",
       "      <td>2</td>\n",
       "      <td>Natural Gas Electric Power Sector CO2 Emissions</td>\n",
       "      <td>Million Metric Tons of Carbon Dioxide</td>\n",
       "    </tr>\n",
       "    <tr>\n",
       "      <th>1973-01-01</th>\n",
       "      <td>DKEIEUS</td>\n",
       "      <td>2.375</td>\n",
       "      <td>3</td>\n",
       "      <td>Distillate Fuel, Including Kerosene-Type Jet F...</td>\n",
       "      <td>Million Metric Tons of Carbon Dioxide</td>\n",
       "    </tr>\n",
       "    <tr>\n",
       "      <th>1973-02-01</th>\n",
       "      <td>DKEIEUS</td>\n",
       "      <td>2.061</td>\n",
       "      <td>3</td>\n",
       "      <td>Distillate Fuel, Including Kerosene-Type Jet F...</td>\n",
       "      <td>Million Metric Tons of Carbon Dioxide</td>\n",
       "    </tr>\n",
       "    <tr>\n",
       "      <th>1973-03-01</th>\n",
       "      <td>DKEIEUS</td>\n",
       "      <td>1.171</td>\n",
       "      <td>3</td>\n",
       "      <td>Distillate Fuel, Including Kerosene-Type Jet F...</td>\n",
       "      <td>Million Metric Tons of Carbon Dioxide</td>\n",
       "    </tr>\n",
       "    <tr>\n",
       "      <th>1973-04-01</th>\n",
       "      <td>DKEIEUS</td>\n",
       "      <td>1.022</td>\n",
       "      <td>3</td>\n",
       "      <td>Distillate Fuel, Including Kerosene-Type Jet F...</td>\n",
       "      <td>Million Metric Tons of Carbon Dioxide</td>\n",
       "    </tr>\n",
       "    <tr>\n",
       "      <th>1973-05-01</th>\n",
       "      <td>DKEIEUS</td>\n",
       "      <td>0.949</td>\n",
       "      <td>3</td>\n",
       "      <td>Distillate Fuel, Including Kerosene-Type Jet F...</td>\n",
       "      <td>Million Metric Tons of Carbon Dioxide</td>\n",
       "    </tr>\n",
       "    <tr>\n",
       "      <th>1973-01-01</th>\n",
       "      <td>PCEIEUS</td>\n",
       "      <td>0.128</td>\n",
       "      <td>4</td>\n",
       "      <td>Petroleum Coke Electric Power Sector CO2 Emiss...</td>\n",
       "      <td>Million Metric Tons of Carbon Dioxide</td>\n",
       "    </tr>\n",
       "    <tr>\n",
       "      <th>1973-02-01</th>\n",
       "      <td>PCEIEUS</td>\n",
       "      <td>0.106</td>\n",
       "      <td>4</td>\n",
       "      <td>Petroleum Coke Electric Power Sector CO2 Emiss...</td>\n",
       "      <td>Million Metric Tons of Carbon Dioxide</td>\n",
       "    </tr>\n",
       "    <tr>\n",
       "      <th>1973-03-01</th>\n",
       "      <td>PCEIEUS</td>\n",
       "      <td>0.083</td>\n",
       "      <td>4</td>\n",
       "      <td>Petroleum Coke Electric Power Sector CO2 Emiss...</td>\n",
       "      <td>Million Metric Tons of Carbon Dioxide</td>\n",
       "    </tr>\n",
       "    <tr>\n",
       "      <th>1973-04-01</th>\n",
       "      <td>PCEIEUS</td>\n",
       "      <td>0.130</td>\n",
       "      <td>4</td>\n",
       "      <td>Petroleum Coke Electric Power Sector CO2 Emiss...</td>\n",
       "      <td>Million Metric Tons of Carbon Dioxide</td>\n",
       "    </tr>\n",
       "    <tr>\n",
       "      <th>1973-05-01</th>\n",
       "      <td>PCEIEUS</td>\n",
       "      <td>0.167</td>\n",
       "      <td>4</td>\n",
       "      <td>Petroleum Coke Electric Power Sector CO2 Emiss...</td>\n",
       "      <td>Million Metric Tons of Carbon Dioxide</td>\n",
       "    </tr>\n",
       "    <tr>\n",
       "      <th>1973-01-01</th>\n",
       "      <td>RFEIEUS</td>\n",
       "      <td>24.867</td>\n",
       "      <td>5</td>\n",
       "      <td>Residual Fuel Oil Electric Power Sector CO2 Em...</td>\n",
       "      <td>Million Metric Tons of Carbon Dioxide</td>\n",
       "    </tr>\n",
       "    <tr>\n",
       "      <th>1973-02-01</th>\n",
       "      <td>RFEIEUS</td>\n",
       "      <td>20.867</td>\n",
       "      <td>5</td>\n",
       "      <td>Residual Fuel Oil Electric Power Sector CO2 Em...</td>\n",
       "      <td>Million Metric Tons of Carbon Dioxide</td>\n",
       "    </tr>\n",
       "    <tr>\n",
       "      <th>1973-03-01</th>\n",
       "      <td>RFEIEUS</td>\n",
       "      <td>19.780</td>\n",
       "      <td>5</td>\n",
       "      <td>Residual Fuel Oil Electric Power Sector CO2 Em...</td>\n",
       "      <td>Million Metric Tons of Carbon Dioxide</td>\n",
       "    </tr>\n",
       "    <tr>\n",
       "      <th>1973-04-01</th>\n",
       "      <td>RFEIEUS</td>\n",
       "      <td>16.562</td>\n",
       "      <td>5</td>\n",
       "      <td>Residual Fuel Oil Electric Power Sector CO2 Em...</td>\n",
       "      <td>Million Metric Tons of Carbon Dioxide</td>\n",
       "    </tr>\n",
       "    <tr>\n",
       "      <th>1973-05-01</th>\n",
       "      <td>RFEIEUS</td>\n",
       "      <td>17.754</td>\n",
       "      <td>5</td>\n",
       "      <td>Residual Fuel Oil Electric Power Sector CO2 Em...</td>\n",
       "      <td>Million Metric Tons of Carbon Dioxide</td>\n",
       "    </tr>\n",
       "    <tr>\n",
       "      <th>1973-01-01</th>\n",
       "      <td>PAEIEUS</td>\n",
       "      <td>27.369</td>\n",
       "      <td>6</td>\n",
       "      <td>Petroleum Electric Power Sector CO2 Emissions</td>\n",
       "      <td>Million Metric Tons of Carbon Dioxide</td>\n",
       "    </tr>\n",
       "    <tr>\n",
       "      <th>1973-02-01</th>\n",
       "      <td>PAEIEUS</td>\n",
       "      <td>23.034</td>\n",
       "      <td>6</td>\n",
       "      <td>Petroleum Electric Power Sector CO2 Emissions</td>\n",
       "      <td>Million Metric Tons of Carbon Dioxide</td>\n",
       "    </tr>\n",
       "    <tr>\n",
       "      <th>1973-03-01</th>\n",
       "      <td>PAEIEUS</td>\n",
       "      <td>21.034</td>\n",
       "      <td>6</td>\n",
       "      <td>Petroleum Electric Power Sector CO2 Emissions</td>\n",
       "      <td>Million Metric Tons of Carbon Dioxide</td>\n",
       "    </tr>\n",
       "    <tr>\n",
       "      <th>1973-04-01</th>\n",
       "      <td>PAEIEUS</td>\n",
       "      <td>17.714</td>\n",
       "      <td>6</td>\n",
       "      <td>Petroleum Electric Power Sector CO2 Emissions</td>\n",
       "      <td>Million Metric Tons of Carbon Dioxide</td>\n",
       "    </tr>\n",
       "    <tr>\n",
       "      <th>1973-05-01</th>\n",
       "      <td>PAEIEUS</td>\n",
       "      <td>18.870</td>\n",
       "      <td>6</td>\n",
       "      <td>Petroleum Electric Power Sector CO2 Emissions</td>\n",
       "      <td>Million Metric Tons of Carbon Dioxide</td>\n",
       "    </tr>\n",
       "    <tr>\n",
       "      <th>1989-01-01</th>\n",
       "      <td>GEEIEUS</td>\n",
       "      <td>0.031</td>\n",
       "      <td>7</td>\n",
       "      <td>Geothermal Energy Electric Power Sector CO2 Em...</td>\n",
       "      <td>Million Metric Tons of Carbon Dioxide</td>\n",
       "    </tr>\n",
       "    <tr>\n",
       "      <th>1989-02-01</th>\n",
       "      <td>GEEIEUS</td>\n",
       "      <td>0.028</td>\n",
       "      <td>7</td>\n",
       "      <td>Geothermal Energy Electric Power Sector CO2 Em...</td>\n",
       "      <td>Million Metric Tons of Carbon Dioxide</td>\n",
       "    </tr>\n",
       "    <tr>\n",
       "      <th>1989-03-01</th>\n",
       "      <td>GEEIEUS</td>\n",
       "      <td>0.031</td>\n",
       "      <td>7</td>\n",
       "      <td>Geothermal Energy Electric Power Sector CO2 Em...</td>\n",
       "      <td>Million Metric Tons of Carbon Dioxide</td>\n",
       "    </tr>\n",
       "    <tr>\n",
       "      <th>1989-04-01</th>\n",
       "      <td>GEEIEUS</td>\n",
       "      <td>0.030</td>\n",
       "      <td>7</td>\n",
       "      <td>Geothermal Energy Electric Power Sector CO2 Em...</td>\n",
       "      <td>Million Metric Tons of Carbon Dioxide</td>\n",
       "    </tr>\n",
       "    <tr>\n",
       "      <th>1989-05-01</th>\n",
       "      <td>GEEIEUS</td>\n",
       "      <td>0.031</td>\n",
       "      <td>7</td>\n",
       "      <td>Geothermal Energy Electric Power Sector CO2 Em...</td>\n",
       "      <td>Million Metric Tons of Carbon Dioxide</td>\n",
       "    </tr>\n",
       "    <tr>\n",
       "      <th>1989-01-01</th>\n",
       "      <td>NWEIEUS</td>\n",
       "      <td>0.371</td>\n",
       "      <td>8</td>\n",
       "      <td>Non-Biomass Waste Electric Power Sector CO2 Em...</td>\n",
       "      <td>Million Metric Tons of Carbon Dioxide</td>\n",
       "    </tr>\n",
       "    <tr>\n",
       "      <th>1989-02-01</th>\n",
       "      <td>NWEIEUS</td>\n",
       "      <td>0.335</td>\n",
       "      <td>8</td>\n",
       "      <td>Non-Biomass Waste Electric Power Sector CO2 Em...</td>\n",
       "      <td>Million Metric Tons of Carbon Dioxide</td>\n",
       "    </tr>\n",
       "    <tr>\n",
       "      <th>1989-03-01</th>\n",
       "      <td>NWEIEUS</td>\n",
       "      <td>0.371</td>\n",
       "      <td>8</td>\n",
       "      <td>Non-Biomass Waste Electric Power Sector CO2 Em...</td>\n",
       "      <td>Million Metric Tons of Carbon Dioxide</td>\n",
       "    </tr>\n",
       "    <tr>\n",
       "      <th>1989-04-01</th>\n",
       "      <td>NWEIEUS</td>\n",
       "      <td>0.359</td>\n",
       "      <td>8</td>\n",
       "      <td>Non-Biomass Waste Electric Power Sector CO2 Em...</td>\n",
       "      <td>Million Metric Tons of Carbon Dioxide</td>\n",
       "    </tr>\n",
       "    <tr>\n",
       "      <th>1989-05-01</th>\n",
       "      <td>NWEIEUS</td>\n",
       "      <td>0.371</td>\n",
       "      <td>8</td>\n",
       "      <td>Non-Biomass Waste Electric Power Sector CO2 Em...</td>\n",
       "      <td>Million Metric Tons of Carbon Dioxide</td>\n",
       "    </tr>\n",
       "    <tr>\n",
       "      <th>1973-01-01</th>\n",
       "      <td>TXEIEUS</td>\n",
       "      <td>111.621</td>\n",
       "      <td>9</td>\n",
       "      <td>Total Energy Electric Power Sector CO2 Emissions</td>\n",
       "      <td>Million Metric Tons of Carbon Dioxide</td>\n",
       "    </tr>\n",
       "    <tr>\n",
       "      <th>1973-02-01</th>\n",
       "      <td>TXEIEUS</td>\n",
       "      <td>99.185</td>\n",
       "      <td>9</td>\n",
       "      <td>Total Energy Electric Power Sector CO2 Emissions</td>\n",
       "      <td>Million Metric Tons of Carbon Dioxide</td>\n",
       "    </tr>\n",
       "    <tr>\n",
       "      <th>1973-03-01</th>\n",
       "      <td>TXEIEUS</td>\n",
       "      <td>99.112</td>\n",
       "      <td>9</td>\n",
       "      <td>Total Energy Electric Power Sector CO2 Emissions</td>\n",
       "      <td>Million Metric Tons of Carbon Dioxide</td>\n",
       "    </tr>\n",
       "    <tr>\n",
       "      <th>1973-04-01</th>\n",
       "      <td>TXEIEUS</td>\n",
       "      <td>93.183</td>\n",
       "      <td>9</td>\n",
       "      <td>Total Energy Electric Power Sector CO2 Emissions</td>\n",
       "      <td>Million Metric Tons of Carbon Dioxide</td>\n",
       "    </tr>\n",
       "    <tr>\n",
       "      <th>1973-05-01</th>\n",
       "      <td>TXEIEUS</td>\n",
       "      <td>98.012</td>\n",
       "      <td>9</td>\n",
       "      <td>Total Energy Electric Power Sector CO2 Emissions</td>\n",
       "      <td>Million Metric Tons of Carbon Dioxide</td>\n",
       "    </tr>\n",
       "  </tbody>\n",
       "</table>\n",
       "</div>"
      ],
      "text/plain": [
       "                MSN    Value  Column_Order  \\\n",
       "YYYYMM                                       \n",
       "1973-01-01  CLEIEUS   72.076             1   \n",
       "1973-02-01  CLEIEUS   64.442             1   \n",
       "1973-03-01  CLEIEUS   64.084             1   \n",
       "1973-04-01  CLEIEUS   60.842             1   \n",
       "1973-05-01  CLEIEUS   61.798             1   \n",
       "1973-01-01  NNEIEUS   12.175             2   \n",
       "1973-02-01  NNEIEUS   11.708             2   \n",
       "1973-03-01  NNEIEUS   13.994             2   \n",
       "1973-04-01  NNEIEUS   14.627             2   \n",
       "1973-05-01  NNEIEUS   17.344             2   \n",
       "1973-01-01  DKEIEUS    2.375             3   \n",
       "1973-02-01  DKEIEUS    2.061             3   \n",
       "1973-03-01  DKEIEUS    1.171             3   \n",
       "1973-04-01  DKEIEUS    1.022             3   \n",
       "1973-05-01  DKEIEUS    0.949             3   \n",
       "1973-01-01  PCEIEUS    0.128             4   \n",
       "1973-02-01  PCEIEUS    0.106             4   \n",
       "1973-03-01  PCEIEUS    0.083             4   \n",
       "1973-04-01  PCEIEUS    0.130             4   \n",
       "1973-05-01  PCEIEUS    0.167             4   \n",
       "1973-01-01  RFEIEUS   24.867             5   \n",
       "1973-02-01  RFEIEUS   20.867             5   \n",
       "1973-03-01  RFEIEUS   19.780             5   \n",
       "1973-04-01  RFEIEUS   16.562             5   \n",
       "1973-05-01  RFEIEUS   17.754             5   \n",
       "1973-01-01  PAEIEUS   27.369             6   \n",
       "1973-02-01  PAEIEUS   23.034             6   \n",
       "1973-03-01  PAEIEUS   21.034             6   \n",
       "1973-04-01  PAEIEUS   17.714             6   \n",
       "1973-05-01  PAEIEUS   18.870             6   \n",
       "1989-01-01  GEEIEUS    0.031             7   \n",
       "1989-02-01  GEEIEUS    0.028             7   \n",
       "1989-03-01  GEEIEUS    0.031             7   \n",
       "1989-04-01  GEEIEUS    0.030             7   \n",
       "1989-05-01  GEEIEUS    0.031             7   \n",
       "1989-01-01  NWEIEUS    0.371             8   \n",
       "1989-02-01  NWEIEUS    0.335             8   \n",
       "1989-03-01  NWEIEUS    0.371             8   \n",
       "1989-04-01  NWEIEUS    0.359             8   \n",
       "1989-05-01  NWEIEUS    0.371             8   \n",
       "1973-01-01  TXEIEUS  111.621             9   \n",
       "1973-02-01  TXEIEUS   99.185             9   \n",
       "1973-03-01  TXEIEUS   99.112             9   \n",
       "1973-04-01  TXEIEUS   93.183             9   \n",
       "1973-05-01  TXEIEUS   98.012             9   \n",
       "\n",
       "                                                  Description  \\\n",
       "YYYYMM                                                          \n",
       "1973-01-01           Coal Electric Power Sector CO2 Emissions   \n",
       "1973-02-01           Coal Electric Power Sector CO2 Emissions   \n",
       "1973-03-01           Coal Electric Power Sector CO2 Emissions   \n",
       "1973-04-01           Coal Electric Power Sector CO2 Emissions   \n",
       "1973-05-01           Coal Electric Power Sector CO2 Emissions   \n",
       "1973-01-01    Natural Gas Electric Power Sector CO2 Emissions   \n",
       "1973-02-01    Natural Gas Electric Power Sector CO2 Emissions   \n",
       "1973-03-01    Natural Gas Electric Power Sector CO2 Emissions   \n",
       "1973-04-01    Natural Gas Electric Power Sector CO2 Emissions   \n",
       "1973-05-01    Natural Gas Electric Power Sector CO2 Emissions   \n",
       "1973-01-01  Distillate Fuel, Including Kerosene-Type Jet F...   \n",
       "1973-02-01  Distillate Fuel, Including Kerosene-Type Jet F...   \n",
       "1973-03-01  Distillate Fuel, Including Kerosene-Type Jet F...   \n",
       "1973-04-01  Distillate Fuel, Including Kerosene-Type Jet F...   \n",
       "1973-05-01  Distillate Fuel, Including Kerosene-Type Jet F...   \n",
       "1973-01-01  Petroleum Coke Electric Power Sector CO2 Emiss...   \n",
       "1973-02-01  Petroleum Coke Electric Power Sector CO2 Emiss...   \n",
       "1973-03-01  Petroleum Coke Electric Power Sector CO2 Emiss...   \n",
       "1973-04-01  Petroleum Coke Electric Power Sector CO2 Emiss...   \n",
       "1973-05-01  Petroleum Coke Electric Power Sector CO2 Emiss...   \n",
       "1973-01-01  Residual Fuel Oil Electric Power Sector CO2 Em...   \n",
       "1973-02-01  Residual Fuel Oil Electric Power Sector CO2 Em...   \n",
       "1973-03-01  Residual Fuel Oil Electric Power Sector CO2 Em...   \n",
       "1973-04-01  Residual Fuel Oil Electric Power Sector CO2 Em...   \n",
       "1973-05-01  Residual Fuel Oil Electric Power Sector CO2 Em...   \n",
       "1973-01-01      Petroleum Electric Power Sector CO2 Emissions   \n",
       "1973-02-01      Petroleum Electric Power Sector CO2 Emissions   \n",
       "1973-03-01      Petroleum Electric Power Sector CO2 Emissions   \n",
       "1973-04-01      Petroleum Electric Power Sector CO2 Emissions   \n",
       "1973-05-01      Petroleum Electric Power Sector CO2 Emissions   \n",
       "1989-01-01  Geothermal Energy Electric Power Sector CO2 Em...   \n",
       "1989-02-01  Geothermal Energy Electric Power Sector CO2 Em...   \n",
       "1989-03-01  Geothermal Energy Electric Power Sector CO2 Em...   \n",
       "1989-04-01  Geothermal Energy Electric Power Sector CO2 Em...   \n",
       "1989-05-01  Geothermal Energy Electric Power Sector CO2 Em...   \n",
       "1989-01-01  Non-Biomass Waste Electric Power Sector CO2 Em...   \n",
       "1989-02-01  Non-Biomass Waste Electric Power Sector CO2 Em...   \n",
       "1989-03-01  Non-Biomass Waste Electric Power Sector CO2 Em...   \n",
       "1989-04-01  Non-Biomass Waste Electric Power Sector CO2 Em...   \n",
       "1989-05-01  Non-Biomass Waste Electric Power Sector CO2 Em...   \n",
       "1973-01-01   Total Energy Electric Power Sector CO2 Emissions   \n",
       "1973-02-01   Total Energy Electric Power Sector CO2 Emissions   \n",
       "1973-03-01   Total Energy Electric Power Sector CO2 Emissions   \n",
       "1973-04-01   Total Energy Electric Power Sector CO2 Emissions   \n",
       "1973-05-01   Total Energy Electric Power Sector CO2 Emissions   \n",
       "\n",
       "                                             Unit  \n",
       "YYYYMM                                             \n",
       "1973-01-01  Million Metric Tons of Carbon Dioxide  \n",
       "1973-02-01  Million Metric Tons of Carbon Dioxide  \n",
       "1973-03-01  Million Metric Tons of Carbon Dioxide  \n",
       "1973-04-01  Million Metric Tons of Carbon Dioxide  \n",
       "1973-05-01  Million Metric Tons of Carbon Dioxide  \n",
       "1973-01-01  Million Metric Tons of Carbon Dioxide  \n",
       "1973-02-01  Million Metric Tons of Carbon Dioxide  \n",
       "1973-03-01  Million Metric Tons of Carbon Dioxide  \n",
       "1973-04-01  Million Metric Tons of Carbon Dioxide  \n",
       "1973-05-01  Million Metric Tons of Carbon Dioxide  \n",
       "1973-01-01  Million Metric Tons of Carbon Dioxide  \n",
       "1973-02-01  Million Metric Tons of Carbon Dioxide  \n",
       "1973-03-01  Million Metric Tons of Carbon Dioxide  \n",
       "1973-04-01  Million Metric Tons of Carbon Dioxide  \n",
       "1973-05-01  Million Metric Tons of Carbon Dioxide  \n",
       "1973-01-01  Million Metric Tons of Carbon Dioxide  \n",
       "1973-02-01  Million Metric Tons of Carbon Dioxide  \n",
       "1973-03-01  Million Metric Tons of Carbon Dioxide  \n",
       "1973-04-01  Million Metric Tons of Carbon Dioxide  \n",
       "1973-05-01  Million Metric Tons of Carbon Dioxide  \n",
       "1973-01-01  Million Metric Tons of Carbon Dioxide  \n",
       "1973-02-01  Million Metric Tons of Carbon Dioxide  \n",
       "1973-03-01  Million Metric Tons of Carbon Dioxide  \n",
       "1973-04-01  Million Metric Tons of Carbon Dioxide  \n",
       "1973-05-01  Million Metric Tons of Carbon Dioxide  \n",
       "1973-01-01  Million Metric Tons of Carbon Dioxide  \n",
       "1973-02-01  Million Metric Tons of Carbon Dioxide  \n",
       "1973-03-01  Million Metric Tons of Carbon Dioxide  \n",
       "1973-04-01  Million Metric Tons of Carbon Dioxide  \n",
       "1973-05-01  Million Metric Tons of Carbon Dioxide  \n",
       "1989-01-01  Million Metric Tons of Carbon Dioxide  \n",
       "1989-02-01  Million Metric Tons of Carbon Dioxide  \n",
       "1989-03-01  Million Metric Tons of Carbon Dioxide  \n",
       "1989-04-01  Million Metric Tons of Carbon Dioxide  \n",
       "1989-05-01  Million Metric Tons of Carbon Dioxide  \n",
       "1989-01-01  Million Metric Tons of Carbon Dioxide  \n",
       "1989-02-01  Million Metric Tons of Carbon Dioxide  \n",
       "1989-03-01  Million Metric Tons of Carbon Dioxide  \n",
       "1989-04-01  Million Metric Tons of Carbon Dioxide  \n",
       "1989-05-01  Million Metric Tons of Carbon Dioxide  \n",
       "1973-01-01  Million Metric Tons of Carbon Dioxide  \n",
       "1973-02-01  Million Metric Tons of Carbon Dioxide  \n",
       "1973-03-01  Million Metric Tons of Carbon Dioxide  \n",
       "1973-04-01  Million Metric Tons of Carbon Dioxide  \n",
       "1973-05-01  Million Metric Tons of Carbon Dioxide  "
      ]
     },
     "execution_count": 13,
     "metadata": {},
     "output_type": "execute_result"
    }
   ],
   "source": [
    "Energy_sources = ts.groupby('Description')\n",
    "Energy_sources.head()"
   ]
  },
  {
   "cell_type": "markdown",
   "metadata": {
    "_cell_guid": "a0766b4a-d185-40f5-af91-379b800911d5",
    "_uuid": "e85404bfa5c3aa10be028a4e4835c4e84e9a1c3b"
   },
   "source": [
    "The CO2 emission time series dataset is ploted to visualize the dependency of the emission in the power generation with time. "
   ]
  },
  {
   "cell_type": "code",
   "execution_count": 19,
   "metadata": {
    "_cell_guid": "4835332e-ea41-4adf-b84c-dc95f611bdfc",
    "_uuid": "cfc8c63d6c9191ea9e4ab3a012fbabb72909bc6b"
   },
   "outputs": [
    {
     "data": {
      "image/png": "[encoded data removed]",
      "text/plain": [
       "<Figure size 1440x1152 with 1 Axes>"
      ]
     },
     "metadata": {
      "needs_background": "light"
     },
     "output_type": "display_data"
    }
   ],
   "source": [
    "fig, ax = plt.subplots()\n",
    "for desc, group in Energy_sources:\n",
    "    group.plot(x = 0, y='Value',label=desc,ax = ax, title='Carbon Emissions per Energy Source', fontsize = 20)\n",
    "#     ax.set_xlabel('Time(Monthly)')\n",
    "#     ax.set_ylabel('Carbon Emissions in MMT')\n",
    "#     ax.xaxis.label.set_size(20)\n",
    "#     ax.yaxis.label.set_size(20)\n",
    "#     ax.legend(fontsize = 16)"
   ]
  },
  {
   "cell_type": "code",
   "execution_count": 15,
   "metadata": {},
   "outputs": [
    {
     "ename": "AttributeError",
     "evalue": "'Line2D' object has no property 'title'",
     "output_type": "error",
     "traceback": [
      "\u001b[1;31m---------------------------------------------------------------------------\u001b[0m",
      "\u001b[1;31mAttributeError\u001b[0m                            Traceback (most recent call last)",
      "\u001b[1;32m<ipython-input-15-ce953f353dbf>\u001b[0m in \u001b[0;36m<module>\u001b[1;34m\u001b[0m\n\u001b[0;32m      1\u001b[0m \u001b[0mfig\u001b[0m\u001b[1;33m,\u001b[0m \u001b[0max\u001b[0m \u001b[1;33m=\u001b[0m \u001b[0mplt\u001b[0m\u001b[1;33m.\u001b[0m\u001b[0msubplots\u001b[0m\u001b[1;33m(\u001b[0m\u001b[1;33m)\u001b[0m\u001b[1;33m\u001b[0m\u001b[1;33m\u001b[0m\u001b[0m\n\u001b[0;32m      2\u001b[0m \u001b[1;32mfor\u001b[0m \u001b[0mdesc\u001b[0m\u001b[1;33m,\u001b[0m \u001b[0mgroup\u001b[0m \u001b[1;32min\u001b[0m \u001b[0mEnergy_sources\u001b[0m\u001b[1;33m:\u001b[0m\u001b[1;33m\u001b[0m\u001b[1;33m\u001b[0m\u001b[0m\n\u001b[1;32m----> 3\u001b[1;33m     \u001b[0mplt\u001b[0m\u001b[1;33m.\u001b[0m\u001b[0mplot\u001b[0m\u001b[1;33m(\u001b[0m\u001b[0mgroup\u001b[0m\u001b[1;33m.\u001b[0m\u001b[0mindex\u001b[0m\u001b[1;33m,\u001b[0m \u001b[0mgroup\u001b[0m\u001b[1;33m[\u001b[0m\u001b[1;34m'Value'\u001b[0m\u001b[1;33m]\u001b[0m\u001b[1;33m,\u001b[0m\u001b[0mtitle\u001b[0m\u001b[1;33m=\u001b[0m\u001b[1;34m'Carbon Emissions per Energy Source'\u001b[0m\u001b[1;33m,\u001b[0m \u001b[0mfontsize\u001b[0m \u001b[1;33m=\u001b[0m \u001b[1;36m20\u001b[0m\u001b[1;33m)\u001b[0m\u001b[1;33m\u001b[0m\u001b[1;33m\u001b[0m\u001b[0m\n\u001b[0m\u001b[0;32m      4\u001b[0m     \u001b[0max\u001b[0m\u001b[1;33m.\u001b[0m\u001b[0mset_xlabel\u001b[0m\u001b[1;33m(\u001b[0m\u001b[1;34m'Time(Monthly)'\u001b[0m\u001b[1;33m)\u001b[0m\u001b[1;33m\u001b[0m\u001b[1;33m\u001b[0m\u001b[0m\n\u001b[0;32m      5\u001b[0m     \u001b[0max\u001b[0m\u001b[1;33m.\u001b[0m\u001b[0mset_ylabel\u001b[0m\u001b[1;33m(\u001b[0m\u001b[1;34m'Carbon Emissions in MMT'\u001b[0m\u001b[1;33m)\u001b[0m\u001b[1;33m\u001b[0m\u001b[1;33m\u001b[0m\u001b[0m\n",
      "\u001b[1;32mD:\\Downloads\\Anaconda\\lib\\site-packages\\matplotlib\\pyplot.py\u001b[0m in \u001b[0;36mplot\u001b[1;34m(scalex, scaley, data, *args, **kwargs)\u001b[0m\n\u001b[0;32m   2794\u001b[0m     return gca().plot(\n\u001b[0;32m   2795\u001b[0m         *args, scalex=scalex, scaley=scaley, **({\"data\": data} if data\n\u001b[1;32m-> 2796\u001b[1;33m         is not None else {}), **kwargs)\n\u001b[0m\u001b[0;32m   2797\u001b[0m \u001b[1;33m\u001b[0m\u001b[0m\n\u001b[0;32m   2798\u001b[0m \u001b[1;33m\u001b[0m\u001b[0m\n",
      "\u001b[1;32mD:\\Downloads\\Anaconda\\lib\\site-packages\\matplotlib\\axes\\_axes.py\u001b[0m in \u001b[0;36mplot\u001b[1;34m(self, scalex, scaley, data, *args, **kwargs)\u001b[0m\n\u001b[0;32m   1663\u001b[0m         \"\"\"\n\u001b[0;32m   1664\u001b[0m         \u001b[0mkwargs\u001b[0m \u001b[1;33m=\u001b[0m \u001b[0mcbook\u001b[0m\u001b[1;33m.\u001b[0m\u001b[0mnormalize_kwargs\u001b[0m\u001b[1;33m(\u001b[0m\u001b[0mkwargs\u001b[0m\u001b[1;33m,\u001b[0m \u001b[0mmlines\u001b[0m\u001b[1;33m.\u001b[0m\u001b[0mLine2D\u001b[0m\u001b[1;33m.\u001b[0m\u001b[0m_alias_map\u001b[0m\u001b[1;33m)\u001b[0m\u001b[1;33m\u001b[0m\u001b[1;33m\u001b[0m\u001b[0m\n\u001b[1;32m-> 1665\u001b[1;33m         \u001b[0mlines\u001b[0m \u001b[1;33m=\u001b[0m \u001b[1;33m[\u001b[0m\u001b[1;33m*\u001b[0m\u001b[0mself\u001b[0m\u001b[1;33m.\u001b[0m\u001b[0m_get_lines\u001b[0m\u001b[1;33m(\u001b[0m\u001b[1;33m*\u001b[0m\u001b[0margs\u001b[0m\u001b[1;33m,\u001b[0m \u001b[0mdata\u001b[0m\u001b[1;33m=\u001b[0m\u001b[0mdata\u001b[0m\u001b[1;33m,\u001b[0m \u001b[1;33m**\u001b[0m\u001b[0mkwargs\u001b[0m\u001b[1;33m)\u001b[0m\u001b[1;33m]\u001b[0m\u001b[1;33m\u001b[0m\u001b[1;33m\u001b[0m\u001b[0m\n\u001b[0m\u001b[0;32m   1666\u001b[0m         \u001b[1;32mfor\u001b[0m \u001b[0mline\u001b[0m \u001b[1;32min\u001b[0m \u001b[0mlines\u001b[0m\u001b[1;33m:\u001b[0m\u001b[1;33m\u001b[0m\u001b[1;33m\u001b[0m\u001b[0m\n\u001b[0;32m   1667\u001b[0m             \u001b[0mself\u001b[0m\u001b[1;33m.\u001b[0m\u001b[0madd_line\u001b[0m\u001b[1;33m(\u001b[0m\u001b[0mline\u001b[0m\u001b[1;33m)\u001b[0m\u001b[1;33m\u001b[0m\u001b[1;33m\u001b[0m\u001b[0m\n",
      "\u001b[1;32mD:\\Downloads\\Anaconda\\lib\\site-packages\\matplotlib\\axes\\_base.py\u001b[0m in \u001b[0;36m__call__\u001b[1;34m(self, *args, **kwargs)\u001b[0m\n\u001b[0;32m    223\u001b[0m                 \u001b[0mthis\u001b[0m \u001b[1;33m+=\u001b[0m \u001b[0margs\u001b[0m\u001b[1;33m[\u001b[0m\u001b[1;36m0\u001b[0m\u001b[1;33m]\u001b[0m\u001b[1;33m,\u001b[0m\u001b[1;33m\u001b[0m\u001b[1;33m\u001b[0m\u001b[0m\n\u001b[0;32m    224\u001b[0m                 \u001b[0margs\u001b[0m \u001b[1;33m=\u001b[0m \u001b[0margs\u001b[0m\u001b[1;33m[\u001b[0m\u001b[1;36m1\u001b[0m\u001b[1;33m:\u001b[0m\u001b[1;33m]\u001b[0m\u001b[1;33m\u001b[0m\u001b[1;33m\u001b[0m\u001b[0m\n\u001b[1;32m--> 225\u001b[1;33m             \u001b[1;32myield\u001b[0m \u001b[1;32mfrom\u001b[0m \u001b[0mself\u001b[0m\u001b[1;33m.\u001b[0m\u001b[0m_plot_args\u001b[0m\u001b[1;33m(\u001b[0m\u001b[0mthis\u001b[0m\u001b[1;33m,\u001b[0m \u001b[0mkwargs\u001b[0m\u001b[1;33m)\u001b[0m\u001b[1;33m\u001b[0m\u001b[1;33m\u001b[0m\u001b[0m\n\u001b[0m\u001b[0;32m    226\u001b[0m \u001b[1;33m\u001b[0m\u001b[0m\n\u001b[0;32m    227\u001b[0m     \u001b[1;32mdef\u001b[0m \u001b[0mget_next_color\u001b[0m\u001b[1;33m(\u001b[0m\u001b[0mself\u001b[0m\u001b[1;33m)\u001b[0m\u001b[1;33m:\u001b[0m\u001b[1;33m\u001b[0m\u001b[1;33m\u001b[0m\u001b[0m\n",
      "\u001b[1;32mD:\\Downloads\\Anaconda\\lib\\site-packages\\matplotlib\\axes\\_base.py\u001b[0m in \u001b[0;36m_plot_args\u001b[1;34m(self, tup, kwargs)\u001b[0m\n\u001b[0;32m    403\u001b[0m                 \"non-matching shapes is deprecated.\")\n\u001b[0;32m    404\u001b[0m         \u001b[1;32mfor\u001b[0m \u001b[0mj\u001b[0m \u001b[1;32min\u001b[0m \u001b[0mrange\u001b[0m\u001b[1;33m(\u001b[0m\u001b[0mmax\u001b[0m\u001b[1;33m(\u001b[0m\u001b[0mncx\u001b[0m\u001b[1;33m,\u001b[0m \u001b[0mncy\u001b[0m\u001b[1;33m)\u001b[0m\u001b[1;33m)\u001b[0m\u001b[1;33m:\u001b[0m\u001b[1;33m\u001b[0m\u001b[1;33m\u001b[0m\u001b[0m\n\u001b[1;32m--> 405\u001b[1;33m             \u001b[0mseg\u001b[0m \u001b[1;33m=\u001b[0m \u001b[0mfunc\u001b[0m\u001b[1;33m(\u001b[0m\u001b[0mx\u001b[0m\u001b[1;33m[\u001b[0m\u001b[1;33m:\u001b[0m\u001b[1;33m,\u001b[0m \u001b[0mj\u001b[0m \u001b[1;33m%\u001b[0m \u001b[0mncx\u001b[0m\u001b[1;33m]\u001b[0m\u001b[1;33m,\u001b[0m \u001b[0my\u001b[0m\u001b[1;33m[\u001b[0m\u001b[1;33m:\u001b[0m\u001b[1;33m,\u001b[0m \u001b[0mj\u001b[0m \u001b[1;33m%\u001b[0m \u001b[0mncy\u001b[0m\u001b[1;33m]\u001b[0m\u001b[1;33m,\u001b[0m \u001b[0mkw\u001b[0m\u001b[1;33m,\u001b[0m \u001b[0mkwargs\u001b[0m\u001b[1;33m)\u001b[0m\u001b[1;33m\u001b[0m\u001b[1;33m\u001b[0m\u001b[0m\n\u001b[0m\u001b[0;32m    406\u001b[0m             \u001b[0mret\u001b[0m\u001b[1;33m.\u001b[0m\u001b[0mappend\u001b[0m\u001b[1;33m(\u001b[0m\u001b[0mseg\u001b[0m\u001b[1;33m)\u001b[0m\u001b[1;33m\u001b[0m\u001b[1;33m\u001b[0m\u001b[0m\n\u001b[0;32m    407\u001b[0m         \u001b[1;32mreturn\u001b[0m \u001b[0mret\u001b[0m\u001b[1;33m\u001b[0m\u001b[1;33m\u001b[0m\u001b[0m\n",
      "\u001b[1;32mD:\\Downloads\\Anaconda\\lib\\site-packages\\matplotlib\\axes\\_base.py\u001b[0m in \u001b[0;36m_makeline\u001b[1;34m(self, x, y, kw, kwargs)\u001b[0m\n\u001b[0;32m    310\u001b[0m         \u001b[0mdefault_dict\u001b[0m \u001b[1;33m=\u001b[0m \u001b[0mself\u001b[0m\u001b[1;33m.\u001b[0m\u001b[0m_getdefaults\u001b[0m\u001b[1;33m(\u001b[0m\u001b[0mset\u001b[0m\u001b[1;33m(\u001b[0m\u001b[1;33m)\u001b[0m\u001b[1;33m,\u001b[0m \u001b[0mkw\u001b[0m\u001b[1;33m)\u001b[0m\u001b[1;33m\u001b[0m\u001b[1;33m\u001b[0m\u001b[0m\n\u001b[0;32m    311\u001b[0m         \u001b[0mself\u001b[0m\u001b[1;33m.\u001b[0m\u001b[0m_setdefaults\u001b[0m\u001b[1;33m(\u001b[0m\u001b[0mdefault_dict\u001b[0m\u001b[1;33m,\u001b[0m \u001b[0mkw\u001b[0m\u001b[1;33m)\u001b[0m\u001b[1;33m\u001b[0m\u001b[1;33m\u001b[0m\u001b[0m\n\u001b[1;32m--> 312\u001b[1;33m         \u001b[0mseg\u001b[0m \u001b[1;33m=\u001b[0m \u001b[0mmlines\u001b[0m\u001b[1;33m.\u001b[0m\u001b[0mLine2D\u001b[0m\u001b[1;33m(\u001b[0m\u001b[0mx\u001b[0m\u001b[1;33m,\u001b[0m \u001b[0my\u001b[0m\u001b[1;33m,\u001b[0m \u001b[1;33m**\u001b[0m\u001b[0mkw\u001b[0m\u001b[1;33m)\u001b[0m\u001b[1;33m\u001b[0m\u001b[1;33m\u001b[0m\u001b[0m\n\u001b[0m\u001b[0;32m    313\u001b[0m         \u001b[1;32mreturn\u001b[0m \u001b[0mseg\u001b[0m\u001b[1;33m\u001b[0m\u001b[1;33m\u001b[0m\u001b[0m\n\u001b[0;32m    314\u001b[0m \u001b[1;33m\u001b[0m\u001b[0m\n",
      "\u001b[1;32mD:\\Downloads\\Anaconda\\lib\\site-packages\\matplotlib\\lines.py\u001b[0m in \u001b[0;36m__init__\u001b[1;34m(self, xdata, ydata, linewidth, linestyle, color, marker, markersize, markeredgewidth, markeredgecolor, markerfacecolor, markerfacecoloralt, fillstyle, antialiased, dash_capstyle, solid_capstyle, dash_joinstyle, solid_joinstyle, pickradius, drawstyle, markevery, **kwargs)\u001b[0m\n\u001b[0;32m    402\u001b[0m         \u001b[1;31m# update kwargs before updating data to give the caller a\u001b[0m\u001b[1;33m\u001b[0m\u001b[1;33m\u001b[0m\u001b[1;33m\u001b[0m\u001b[0m\n\u001b[0;32m    403\u001b[0m         \u001b[1;31m# chance to init axes (and hence unit support)\u001b[0m\u001b[1;33m\u001b[0m\u001b[1;33m\u001b[0m\u001b[1;33m\u001b[0m\u001b[0m\n\u001b[1;32m--> 404\u001b[1;33m         \u001b[0mself\u001b[0m\u001b[1;33m.\u001b[0m\u001b[0mupdate\u001b[0m\u001b[1;33m(\u001b[0m\u001b[0mkwargs\u001b[0m\u001b[1;33m)\u001b[0m\u001b[1;33m\u001b[0m\u001b[1;33m\u001b[0m\u001b[0m\n\u001b[0m\u001b[0;32m    405\u001b[0m         \u001b[0mself\u001b[0m\u001b[1;33m.\u001b[0m\u001b[0mpickradius\u001b[0m \u001b[1;33m=\u001b[0m \u001b[0mpickradius\u001b[0m\u001b[1;33m\u001b[0m\u001b[1;33m\u001b[0m\u001b[0m\n\u001b[0;32m    406\u001b[0m         \u001b[0mself\u001b[0m\u001b[1;33m.\u001b[0m\u001b[0mind_offset\u001b[0m \u001b[1;33m=\u001b[0m \u001b[1;36m0\u001b[0m\u001b[1;33m\u001b[0m\u001b[1;33m\u001b[0m\u001b[0m\n",
      "\u001b[1;32mD:\\Downloads\\Anaconda\\lib\\site-packages\\matplotlib\\artist.py\u001b[0m in \u001b[0;36mupdate\u001b[1;34m(self, props)\u001b[0m\n\u001b[0;32m    972\u001b[0m \u001b[1;33m\u001b[0m\u001b[0m\n\u001b[0;32m    973\u001b[0m         \u001b[1;32mwith\u001b[0m \u001b[0mcbook\u001b[0m\u001b[1;33m.\u001b[0m\u001b[0m_setattr_cm\u001b[0m\u001b[1;33m(\u001b[0m\u001b[0mself\u001b[0m\u001b[1;33m,\u001b[0m \u001b[0meventson\u001b[0m\u001b[1;33m=\u001b[0m\u001b[1;32mFalse\u001b[0m\u001b[1;33m)\u001b[0m\u001b[1;33m:\u001b[0m\u001b[1;33m\u001b[0m\u001b[1;33m\u001b[0m\u001b[0m\n\u001b[1;32m--> 974\u001b[1;33m             \u001b[0mret\u001b[0m \u001b[1;33m=\u001b[0m \u001b[1;33m[\u001b[0m\u001b[0m_update_property\u001b[0m\u001b[1;33m(\u001b[0m\u001b[0mself\u001b[0m\u001b[1;33m,\u001b[0m \u001b[0mk\u001b[0m\u001b[1;33m,\u001b[0m \u001b[0mv\u001b[0m\u001b[1;33m)\u001b[0m \u001b[1;32mfor\u001b[0m \u001b[0mk\u001b[0m\u001b[1;33m,\u001b[0m \u001b[0mv\u001b[0m \u001b[1;32min\u001b[0m \u001b[0mprops\u001b[0m\u001b[1;33m.\u001b[0m\u001b[0mitems\u001b[0m\u001b[1;33m(\u001b[0m\u001b[1;33m)\u001b[0m\u001b[1;33m]\u001b[0m\u001b[1;33m\u001b[0m\u001b[1;33m\u001b[0m\u001b[0m\n\u001b[0m\u001b[0;32m    975\u001b[0m \u001b[1;33m\u001b[0m\u001b[0m\n\u001b[0;32m    976\u001b[0m         \u001b[1;32mif\u001b[0m \u001b[0mlen\u001b[0m\u001b[1;33m(\u001b[0m\u001b[0mret\u001b[0m\u001b[1;33m)\u001b[0m\u001b[1;33m:\u001b[0m\u001b[1;33m\u001b[0m\u001b[1;33m\u001b[0m\u001b[0m\n",
      "\u001b[1;32mD:\\Downloads\\Anaconda\\lib\\site-packages\\matplotlib\\artist.py\u001b[0m in \u001b[0;36m<listcomp>\u001b[1;34m(.0)\u001b[0m\n\u001b[0;32m    972\u001b[0m \u001b[1;33m\u001b[0m\u001b[0m\n\u001b[0;32m    973\u001b[0m         \u001b[1;32mwith\u001b[0m \u001b[0mcbook\u001b[0m\u001b[1;33m.\u001b[0m\u001b[0m_setattr_cm\u001b[0m\u001b[1;33m(\u001b[0m\u001b[0mself\u001b[0m\u001b[1;33m,\u001b[0m \u001b[0meventson\u001b[0m\u001b[1;33m=\u001b[0m\u001b[1;32mFalse\u001b[0m\u001b[1;33m)\u001b[0m\u001b[1;33m:\u001b[0m\u001b[1;33m\u001b[0m\u001b[1;33m\u001b[0m\u001b[0m\n\u001b[1;32m--> 974\u001b[1;33m             \u001b[0mret\u001b[0m \u001b[1;33m=\u001b[0m \u001b[1;33m[\u001b[0m\u001b[0m_update_property\u001b[0m\u001b[1;33m(\u001b[0m\u001b[0mself\u001b[0m\u001b[1;33m,\u001b[0m \u001b[0mk\u001b[0m\u001b[1;33m,\u001b[0m \u001b[0mv\u001b[0m\u001b[1;33m)\u001b[0m \u001b[1;32mfor\u001b[0m \u001b[0mk\u001b[0m\u001b[1;33m,\u001b[0m \u001b[0mv\u001b[0m \u001b[1;32min\u001b[0m \u001b[0mprops\u001b[0m\u001b[1;33m.\u001b[0m\u001b[0mitems\u001b[0m\u001b[1;33m(\u001b[0m\u001b[1;33m)\u001b[0m\u001b[1;33m]\u001b[0m\u001b[1;33m\u001b[0m\u001b[1;33m\u001b[0m\u001b[0m\n\u001b[0m\u001b[0;32m    975\u001b[0m \u001b[1;33m\u001b[0m\u001b[0m\n\u001b[0;32m    976\u001b[0m         \u001b[1;32mif\u001b[0m \u001b[0mlen\u001b[0m\u001b[1;33m(\u001b[0m\u001b[0mret\u001b[0m\u001b[1;33m)\u001b[0m\u001b[1;33m:\u001b[0m\u001b[1;33m\u001b[0m\u001b[1;33m\u001b[0m\u001b[0m\n",
      "\u001b[1;32mD:\\Downloads\\Anaconda\\lib\\site-packages\\matplotlib\\artist.py\u001b[0m in \u001b[0;36m_update_property\u001b[1;34m(self, k, v)\u001b[0m\n\u001b[0;32m    968\u001b[0m                 \u001b[1;32mif\u001b[0m \u001b[1;32mnot\u001b[0m \u001b[0mcallable\u001b[0m\u001b[1;33m(\u001b[0m\u001b[0mfunc\u001b[0m\u001b[1;33m)\u001b[0m\u001b[1;33m:\u001b[0m\u001b[1;33m\u001b[0m\u001b[1;33m\u001b[0m\u001b[0m\n\u001b[0;32m    969\u001b[0m                     raise AttributeError('{!r} object has no property {!r}'\n\u001b[1;32m--> 970\u001b[1;33m                                          .format(type(self).__name__, k))\n\u001b[0m\u001b[0;32m    971\u001b[0m                 \u001b[1;32mreturn\u001b[0m \u001b[0mfunc\u001b[0m\u001b[1;33m(\u001b[0m\u001b[0mv\u001b[0m\u001b[1;33m)\u001b[0m\u001b[1;33m\u001b[0m\u001b[1;33m\u001b[0m\u001b[0m\n\u001b[0;32m    972\u001b[0m \u001b[1;33m\u001b[0m\u001b[0m\n",
      "\u001b[1;31mAttributeError\u001b[0m: 'Line2D' object has no property 'title'"
     ]
    },
    {
     "data": {
      "image/png": "[encoded data removed]",
      "text/plain": [
       "<Figure size 1440x1152 with 1 Axes>"
      ]
     },
     "metadata": {
      "needs_background": "light"
     },
     "output_type": "display_data"
    }
   ],
   "source": [
    "fig, ax = plt.subplots()\n",
    "for desc, group in Energy_sources:\n",
    "    plt.plot(group.index, group['Value'],title='Carbon Emissions per Energy Source', fontsize = 20)\n",
    "    ax.set_xlabel('Time(Monthly)')\n",
    "    ax.set_ylabel('Carbon Emissions in MMT')\n",
    "    ax.xaxis.label.set_size(20)\n",
    "    ax.yaxis.label.set_size(20)\n",
    "    ax.legend(fontsize = 16)\n",
    "\n",
    "plt.show()\n",
    "#     group.plot(x = 0, y='Value',label=desc,ax = ax, title='Carbon Emissions per Energy Source', fontsize = 20)\n",
    "#     ax.set_xlabel('Time(Monthly)')\n",
    "#     ax.set_ylabel('Carbon Emissions in MMT')\n",
    "#     ax.xaxis.label.set_size(20)\n",
    "#     ax.yaxis.label.set_size(20)\n",
    "#     ax.legend(fontsize = 16)"
   ]
  },
  {
   "cell_type": "markdown",
   "metadata": {
    "_cell_guid": "c552b3bf-7366-4999-b518-5190e3917532",
    "_uuid": "72b77a3cebb156f8430a4a73bda1b20405b1f61b"
   },
   "source": [
    "Individually, we can visualize the trend and seasonality effect on CO2 emission from each energy source. For example, the CO2 emission from coal shows a trend of increment from 1973 to 2006 and then declines till 2016. "
   ]
  },
  {
   "cell_type": "code",
   "execution_count": null,
   "metadata": {
    "_cell_guid": "f121edd1-a701-47f5-87df-f8cc21a69951",
    "_uuid": "d02be85a61de94af2e0bbe0c61707be9dd938c54"
   },
   "outputs": [],
   "source": [
    "fig, axes = plt.subplots(3,3, figsize = (30, 20))\n",
    "for (desc, group), ax in zip(Energy_sources, axes.flatten()):\n",
    "    group.plot(x = group.index, y='Value',ax = ax, title=desc, fontsize = 18)\n",
    "    ax.set_xlabel('Time(Monthly)')\n",
    "    ax.set_ylabel('Carbon Emissions in MMT')\n",
    "    ax.xaxis.label.set_size(18)\n",
    "    ax.yaxis.label.set_size(18)"
   ]
  },
  {
   "cell_type": "markdown",
   "metadata": {
    "_cell_guid": "7b1e5967-852d-49f4-adf6-9936272822d3",
    "_uuid": "833acc8116561eb861581891e424684acaec0d0e"
   },
   "source": [
    "In recent years, the natural gas consumption has been increasing. However, the use of coal for power generation has been declining. The plots of CO2 emissions from coal and natural gas show this trend, while declining the CO2 contribution from coal, there is an increment in the contribution of CO2 emission from natural gas."
   ]
  },
  {
   "cell_type": "markdown",
   "metadata": {
    "_cell_guid": "8ebe43ab-ff20-4d92-a4b1-9bb751810781",
    "_uuid": "f18944e5642eb61ba1dcf03dfbd30b4adcdbe4f6",
    "collapsed": true
   },
   "source": [
    "   ## 4.3\tBar chart of CO2 Emissions per energy source"
   ]
  },
  {
   "cell_type": "code",
   "execution_count": null,
   "metadata": {
    "_cell_guid": "48a09833-d2a1-441e-94cb-adeb8336831c",
    "_uuid": "81783428b8c334d1cbed0cdc297994c88564eb51",
    "collapsed": true
   },
   "outputs": [],
   "source": [
    "CO2_per_source = ts.groupby('Description')['Value'].sum().sort_values()"
   ]
  },
  {
   "cell_type": "code",
   "execution_count": null,
   "metadata": {
    "_cell_guid": "0bbbee70-981b-4aae-a478-c72c08f2d43d",
    "_uuid": "09b8cc228f8bbda1b8d3d83866001b53b2498205"
   },
   "outputs": [],
   "source": [
    "# I want to use shorter descriptions for the energy sources\n",
    "CO2_per_source.index"
   ]
  },
  {
   "cell_type": "code",
   "execution_count": null,
   "metadata": {
    "_cell_guid": "650598ac-6a69-4fa9-98b1-72da4e450430",
    "_uuid": "72a21cf5771ad5f793c2275c482468d80aad2704",
    "collapsed": true
   },
   "outputs": [],
   "source": [
    "cols = ['Geothermal Energy', 'Non-Biomass Waste', 'Petroleum Coke','Distillate Fuel ',\n",
    "        'Residual Fuel Oil', 'Petroleum', 'Natural Gas', 'Coal', 'Total Emissions']"
   ]
  },
  {
   "cell_type": "code",
   "execution_count": null,
   "metadata": {
    "_cell_guid": "b392e3b7-e1fe-4b92-94b0-f6a96bb8e8d8",
    "_uuid": "d6e42c1000b4f2d73d73184d427633c463dd9ce9"
   },
   "outputs": [],
   "source": [
    "fig = plt.figure(figsize = (16,9))\n",
    "x_label = cols\n",
    "x_tick = np.arange(len(cols))\n",
    "plt.bar(x_tick, CO2_per_source, align = 'center', alpha = 0.5)\n",
    "fig.suptitle(\"CO2 Emissions by Electric Power Sector\", fontsize= 25)\n",
    "plt.xticks(x_tick, x_label, rotation = 70, fontsize = 20)\n",
    "plt.yticks(fontsize = 20)\n",
    "plt.xlabel('Carbon Emissions in MMT', fontsize = 20)\n",
    "plt.show()"
   ]
  },
  {
   "cell_type": "markdown",
   "metadata": {
    "_cell_guid": "6d8f6115-6aa1-4f8f-91d8-ebdbdfdb7bfd",
    "_uuid": "140ee595734e29c483fa3319e44c101c2f7574d8"
   },
   "source": [
    "**From the bar chart, we can see that the contribution of coal to the total CO2 emission is significant followed by natural gas. **"
   ]
  },
  {
   "cell_type": "markdown",
   "metadata": {
    "_cell_guid": "8941939c-04ac-4004-a0e2-bbeb377206b7",
    "_uuid": "5434193afc1be054f9839f4051cb8e099b5e7f74"
   },
   "source": [
    "# 5) Natural gas CO2 emission analysis"
   ]
  },
  {
   "cell_type": "markdown",
   "metadata": {
    "_cell_guid": "e4895403-5d90-4d84-bec9-e659d4a2b588",
    "_uuid": "0328a128d43bcaf9dd5a730ea04d20b5f95c8ba5",
    "collapsed": true
   },
   "source": [
    "For developing the time series model and make forcasting, I will use the natural gas CO2 emission from the electirical power generetion. First, let us slice this data from the ts as follows:  "
   ]
  },
  {
   "cell_type": "code",
   "execution_count": null,
   "metadata": {
    "_cell_guid": "ba631338-0650-4e9e-92ef-ac19ba940ced",
    "_uuid": "d27eac43f126edf54de708f28bf82e7023970da6"
   },
   "outputs": [],
   "source": [
    "Emissions = ts.iloc[:,1:]   # Monthly total emissions (mte)\n",
    "Emissions= Emissions.groupby(['Description', pd.TimeGrouper('M')])['Value'].sum().unstack(level = 0)\n",
    "mte = Emissions['Natural Gas Electric Power Sector CO2 Emissions'] # monthly total emissions (mte)\n",
    "mte.head()"
   ]
  },
  {
   "cell_type": "code",
   "execution_count": null,
   "metadata": {
    "_cell_guid": "6716d0ab-4eb4-4c8f-9f70-0296d466fe77",
    "_uuid": "9efd36bfe90b5bcdb5e5ef2ec0ee6515e66f5ef2"
   },
   "outputs": [],
   "source": [
    "mte.tail()"
   ]
  },
  {
   "cell_type": "markdown",
   "metadata": {
    "_cell_guid": "f130f52a-cb4c-4f7f-9877-df8a7e7d2de1",
    "_uuid": "643e8842ddf738aad2904c2cfe40cdea8f299105"
   },
   "source": [
    "## 5.1 Test Stationary"
   ]
  },
  {
   "cell_type": "markdown",
   "metadata": {
    "_cell_guid": "a655871a-b4d8-454c-af03-aabb7236352f",
    "_uuid": "462222b4e508a37c7868ebcfa6b5d35de44452a4"
   },
   "source": [
    "The first thing we need to do is producing a plot of our time series dataset. From the plot, we will get an idea about the overall trend and seasonality of the series. Then, we will use a statistical method to assess the trend and seasonality of the dataset.  After trend and seasonality are assessed if they are present in the dataset, they will be removed from the series to transform the nonstationary dataset into stationary and the residuals are further analyzed.\n",
    "   \n",
    "A short summary about stationarity from Wikipedia: A stationary process is a stochastic process whose unconditional joint probability distribution does not change when shifted in time. Consequently, parameters such as mean and variance, if they are present, also do not change over time. \n",
    "\n",
    "Stationarity is an assumption underlying many statistical procedures used in time series analysis, non-stationary data is often transformed to become stationary. The most common cause of violation of stationarity is a trend in the mean, which can be due to either the presence of a unit root or of a deterministic trend. If the nonstationarity is caused by the presence of unit root, stochastic shocks have permanent effects and the process is not mean-reverting. However, if it is caused by a deterministic trend, the process is called a trend stationary process, and stochastic shocks have only transitory effects after which the variable tends toward a deterministically evolving mean.\n",
    "    \n",
    " A trend stationary process is not strictly stationary, but can easily be transformed into a stationary process by removing the underlying trend, which is solely a function of time. Similarly, processes with one or more unit roots can be made stationary through differencing. An important type of non-stationary process that does not include a trend-like behavior is a cyclostationary process, which is a stochastic process that varies cyclically with time.\n",
    "\n",
    "Note: Given two jointly distributed random variables X and Y, the conditional probability distribution of Y given X is the probability distribution of Y when X is known to be a particular value.\n"
   ]
  },
  {
   "cell_type": "code",
   "execution_count": null,
   "metadata": {
    "_cell_guid": "1d072346-2b3d-4019-89f5-e376776c1f3f",
    "_uuid": "7a4238a5e94b5d74ad66e5aa04a398086f801722",
    "collapsed": true
   },
   "outputs": [],
   "source": [
    "import statsmodels\n",
    "import statsmodels.api as sm\n",
    "from statsmodels.tsa.stattools import coint, adfuller"
   ]
  },
  {
   "cell_type": "markdown",
   "metadata": {
    "_cell_guid": "66de9529-0ef5-4cb8-b769-ce02015b0cca",
    "_uuid": "b3dd689034da2f7f0e2517660e6143b113ae5647"
   },
   "source": [
    "## 5.1.1 Graphycally test stationary"
   ]
  },
  {
   "cell_type": "code",
   "execution_count": null,
   "metadata": {
    "_cell_guid": "f56c6a01-e525-432a-bf5c-8de9337c699d",
    "_uuid": "92384eaa93073f50bc0d5355fddd6677a532053f"
   },
   "outputs": [],
   "source": [
    "plt.plot(mte)"
   ]
  },
  {
   "cell_type": "markdown",
   "metadata": {
    "_cell_guid": "bebfbfc6-b64c-4627-a052-642c33b3da3c",
    "_uuid": "7045eb64d2e01f1c79de6b814f4078944ee5527d"
   },
   "source": [
    "From the figures, it is evident that there is a trend in the CO2 emission dataset with seasonal variation. So, we can infer a concluding remark that the dataset is not stationary."
   ]
  },
  {
   "cell_type": "markdown",
   "metadata": {
    "_cell_guid": "9459c625-4a8a-4916-94ab-b839f4142538",
    "_uuid": "6debcd83d5ce8d7c0102336b6d3d1f91ae915909"
   },
   "source": [
    "## 5.1.2 Test  stationary using Dickey-Fuller"
   ]
  },
  {
   "cell_type": "markdown",
   "metadata": {
    "_cell_guid": "882f0eff-38bf-471f-9109-bb1d840eb588",
    "_uuid": "24469aa2335cbd13e2eff5e0fb2b6a0fc15e2032"
   },
   "source": [
    "A formal way of testing stationarity of a dataset is using plotting the moving average or moving variance and see if the series mean and variance varies with time. This approach will be handled by the TestStationaryPlot() method. The second way to test stationarity is to use the statistical test (the Dickey-Fuller Test). The null hypothesis for the test is that the time series is non-stationary. The test results compare a Test Statistic and Critical Values (cutoff value) at different confidence levels. If the ‘Test Statistic’ is less than the ‘Critical Value’, we can reject the null hypothesis and say that the series is stationary. This technique will be handled by the TestStationaryAdfuller( ) method given below.\n"
   ]
  },
  {
   "cell_type": "code",
   "execution_count": null,
   "metadata": {
    "_cell_guid": "03af8595-a917-4f05-9581-acf9319c2980",
    "_uuid": "80b28d1e634d3ce1916542fd2e50b823688e3433",
    "collapsed": true
   },
   "outputs": [],
   "source": [
    "def TestStationaryPlot(ts):\n",
    "    rol_mean = ts.rolling(window = 12, center = False).mean()\n",
    "    rol_std = ts.rolling(window = 12, center = False).std()\n",
    "    \n",
    "    plt.plot(ts, color = 'blue',label = 'Original Data')\n",
    "    plt.plot(rol_mean, color = 'red', label = 'Rolling Mean')\n",
    "    plt.plot(rol_std, color ='black', label = 'Rolling Std')\n",
    "    plt.xticks(fontsize = 25)\n",
    "    plt.yticks(fontsize = 25)\n",
    "    \n",
    "    plt.xlabel('Time in Years', fontsize = 25)\n",
    "    plt.ylabel('Total Emissions', fontsize = 25)\n",
    "    plt.legend(loc='best', fontsize = 25)\n",
    "    plt.title('Rolling Mean & Standard Deviation', fontsize = 25)\n",
    "    plt.show(block= True)"
   ]
  },
  {
   "cell_type": "code",
   "execution_count": null,
   "metadata": {
    "_cell_guid": "a0515555-d09c-4e7c-89df-486c1f16a108",
    "_uuid": "0b57ca2ba38173f7da20fe5f2211cb805460fddb",
    "collapsed": true
   },
   "outputs": [],
   "source": [
    "def TestStationaryAdfuller(ts, cutoff = 0.01):\n",
    "    ts_test = adfuller(ts, autolag = 'AIC')\n",
    "    ts_test_output = pd.Series(ts_test[0:4], index=['Test Statistic','p-value','#Lags Used','Number of Observations Used'])\n",
    "    \n",
    "    for key,value in ts_test[4].items():\n",
    "        ts_test_output['Critical Value (%s)'%key] = value\n",
    "    print(ts_test_output)\n",
    "    \n",
    "    if ts_test[1] <= cutoff:\n",
    "        print(\"Strong evidence against the null hypothesis, reject the null hypothesis. Data has no unit root, hence it is stationary\")\n",
    "    else:\n",
    "        print(\"Weak evidence against null hypothesis, time series has a unit root, indicating it is non-stationary \")\n",
    "        "
   ]
  },
  {
   "cell_type": "markdown",
   "metadata": {
    "_cell_guid": "a41fbf62-4f3c-459e-b5ef-995c957813c4",
    "_uuid": "22b0b6373e9ee43f06d489af8badfe865b5ae43e"
   },
   "source": [
    "### Testing the monthly emissions time series"
   ]
  },
  {
   "cell_type": "code",
   "execution_count": null,
   "metadata": {
    "_cell_guid": "42299d5a-acb8-4f45-a130-3c072197ed08",
    "_uuid": "88cc267eee27ba4cd3a75f66ff3d876156e9a827"
   },
   "outputs": [],
   "source": [
    "TestStationaryPlot(mte)"
   ]
  },
  {
   "cell_type": "code",
   "execution_count": null,
   "metadata": {
    "_cell_guid": "da236fb4-0896-4268-af38-58aa9ef50341",
    "_uuid": "7f04af78caa0ba8f08e1af07eb01f67f744bbc8d"
   },
   "outputs": [],
   "source": [
    "TestStationaryAdfuller(mte)"
   ]
  },
  {
   "cell_type": "markdown",
   "metadata": {
    "_cell_guid": "03211b88-6f32-4b68-bc64-84b2a8b0a4f7",
    "_uuid": "73bc434576e480076baf613a7f2f5a8e5fc8cd43"
   },
   "source": [
    "The emissions mean and the variation in standard deviation (black line) clearly vary with time. This shows that the series has a trend. So, it is not a stationary. Also, the Test Statistic is greater than the critical values with 90%, 95% and 99% confidence levels. Hence, no evidence to reject the null hypothesis. Therefore the series is nonstationary. "
   ]
  },
  {
   "cell_type": "markdown",
   "metadata": {
    "_cell_guid": "018094f5-bc39-4c13-96c1-1ce3d4313bcb",
    "_uuid": "cc2f6e2a777819f16de728673353a020932ba344"
   },
   "source": [
    "## 5.1.3 Transform the dataset to stationary"
   ]
  },
  {
   "cell_type": "markdown",
   "metadata": {
    "_cell_guid": "a0b14f41-75ae-49ac-b571-d5f54563b5ec",
    "_uuid": "937cfc0f4870241c49bf2c9c17848a8e74b2f36d"
   },
   "source": [
    "The most common techniques used to estimate or model trend and then remove it from the time series are \n",
    "- Aggregation – taking average for a time period like monthly/weekly average\n",
    "- Smoothing – taking rolling averages\n",
    "- Polynomial Fitting – fit a regression model"
   ]
  },
  {
   "cell_type": "markdown",
   "metadata": {
    "_cell_guid": "5507c8c5-15a6-4ca4-bd57-ba0be17b0cc9",
    "_uuid": "b3696d27431a63d9d50b236638244220fc4b2494"
   },
   "source": [
    "## A). Moving average"
   ]
  },
  {
   "cell_type": "markdown",
   "metadata": {
    "_cell_guid": "b9931433-72b7-46b9-9c4a-b91f28bfe7e3",
    "_uuid": "f82ac4d605aa16274553953d636ff355c2d88bdd"
   },
   "source": [
    "In this technique, we take average of ‘k’ consecutive values depending on the frequency of time series (in this case 12 monthes per year). Here, we will take the average over the past 1 year."
   ]
  },
  {
   "cell_type": "code",
   "execution_count": null,
   "metadata": {
    "_cell_guid": "0c0a683a-2c33-4444-bb4e-ffb4f072a113",
    "_uuid": "34f0fa4e75d85d288b837cbd9610241e06f88c5a"
   },
   "outputs": [],
   "source": [
    "moving_avg = mte.rolling(12).mean()\n",
    "plt.plot(mte)\n",
    "plt.plot(moving_avg, color='red')\n",
    "plt.xticks(fontsize = 25)\n",
    "plt.yticks(fontsize = 25)\n",
    "plt.xlabel('Time (years)', fontsize = 25)\n",
    "plt.ylabel('CO2 Emission (MMT)', fontsize = 25)\n",
    "plt.title('CO2 emission from electric power generation', fontsize = 25)\n",
    "plt.show()"
   ]
  },
  {
   "cell_type": "markdown",
   "metadata": {
    "_cell_guid": "ca727848-e82f-470e-92b4-7d6298f7ab15",
    "_uuid": "f0eb981f12ca31f0c9a21df409c6b7cf7fb1f7b0"
   },
   "source": [
    "The red line shows the rolling mean. Subtract the moving average from the original series. Note that since we are taking average of last 12 values, rolling mean is not defined for first 11 values. "
   ]
  },
  {
   "cell_type": "code",
   "execution_count": null,
   "metadata": {
    "_cell_guid": "c6a31691-db43-4c4e-9dc5-4428a935e708",
    "_uuid": "16ed0947b1e836ce1f8925f04ed4297cf8d8d96c"
   },
   "outputs": [],
   "source": [
    "mte_moving_avg_diff = mte - moving_avg\n",
    "mte_moving_avg_diff.head(13)"
   ]
  },
  {
   "cell_type": "code",
   "execution_count": null,
   "metadata": {
    "_cell_guid": "3084f4de-4d72-422e-8086-a597c2212c19",
    "_uuid": "7f32f5486c49cb6663e30da643eddb0b6fbf49fc"
   },
   "outputs": [],
   "source": [
    "mte_moving_avg_diff.dropna(inplace=True)\n",
    "TestStationaryPlot(mte_moving_avg_diff)"
   ]
  },
  {
   "cell_type": "code",
   "execution_count": null,
   "metadata": {
    "_cell_guid": "2c94ddaf-cc0c-415c-b946-e53ee27cb45f",
    "_uuid": "748d39a9c436c2d22a28e60e36fff6cb3c4756a5"
   },
   "outputs": [],
   "source": [
    "TestStationaryAdfuller(mte_moving_avg_diff)"
   ]
  },
  {
   "cell_type": "markdown",
   "metadata": {
    "_cell_guid": "e843d3d9-e5e9-446b-8a24-0665ca76dfe0",
    "_uuid": "544ba187bac6ae01cffa17d18594e75a2a6893bd"
   },
   "source": [
    "The rolling mean values appear to be varying slightly. The Test Statistic is smaller than the 10% 5%, and 1% of critical values. So, we can say with 99% confidence level that the dataset is a stationary series."
   ]
  },
  {
   "cell_type": "markdown",
   "metadata": {
    "_cell_guid": "d31dadcc-9cad-4775-9f75-59a575e361cc",
    "_uuid": "d62b545b07ad7b03f8e9c1409234a10362382360"
   },
   "source": [
    "## B). Exponentail weighted moving average"
   ]
  },
  {
   "cell_type": "markdown",
   "metadata": {
    "_cell_guid": "40fe6a54-8bbc-485d-9dc1-9b9da84f04d1",
    "_uuid": "0e7e2e6e029b9d4fdee513310036e5063c596628"
   },
   "source": [
    "Another technique is to take the ‘weighted moving average’ where more recent values are given a higher weight. The popular method to assign the waights is using the exponential weighted moving average. Where weights are assigned to all previous values with a decay factor."
   ]
  },
  {
   "cell_type": "code",
   "execution_count": null,
   "metadata": {
    "_cell_guid": "57eb32a6-5b5a-4946-b79b-da495751bd35",
    "_uuid": "316e775861f9bd60eac2258d32fb09f035388e0b"
   },
   "outputs": [],
   "source": [
    "mte_exp_wighted_avg = pd.ewma(mte, halflife=12)\n",
    "plt.plot(mte)\n",
    "plt.plot(mte_exp_wighted_avg, color='red')\n",
    "plt.xticks(fontsize = 25)\n",
    "plt.yticks(fontsize = 25)\n",
    "plt.xlabel('Time (years)', fontsize = 25)\n",
    "plt.ylabel('CO2 Emission (MMT)', fontsize = 25)\n",
    "plt.title('CO2 emission from electric power generation', fontsize = 25)\n",
    "plt.show()"
   ]
  },
  {
   "cell_type": "code",
   "execution_count": null,
   "metadata": {
    "_cell_guid": "2e3debac-e1e5-4f82-85d1-da477c56fd98",
    "_uuid": "13ef6e5aacc06d692d078b7fb6f9205a369663a8"
   },
   "outputs": [],
   "source": [
    "mte_ewma_diff = mte - mte_exp_wighted_avg\n",
    "TestStationaryPlot(mte_ewma_diff)"
   ]
  },
  {
   "cell_type": "code",
   "execution_count": null,
   "metadata": {
    "_cell_guid": "6cd790ce-5464-4de1-8b16-6216ba5e003a",
    "_uuid": "a8bfce8291f54b79ead8abb1ec7571215920850e"
   },
   "outputs": [],
   "source": [
    "TestStationaryAdfuller(mte_ewma_diff)"
   ]
  },
  {
   "cell_type": "markdown",
   "metadata": {
    "_cell_guid": "e18617fb-bcd4-455f-8533-e1b9bf584ae0",
    "_uuid": "7db887f96ea5adf4a504901fc611b8192c7ecf46"
   },
   "source": [
    "This time series has lesser variations in mean and standard deviation compared to the orginal ddataset. Also, the Test Statistic is smaller than the 5% and 10% critical value, which is better than the original case. There will be no missing values as all values from starting are given weights. So, it will work even with no previous values. In this case, we can say with 95% confidence level the series is a stationary series."
   ]
  },
  {
   "cell_type": "markdown",
   "metadata": {
    "_cell_guid": "c95ef07f-f904-4035-8a3f-0e733dc3ba5f",
    "_uuid": "e72644aa58b29b59ddb3c7927e65fbc08127c45a"
   },
   "source": [
    "## C) Eliminating trend and seasonality: Differencing"
   ]
  },
  {
   "cell_type": "markdown",
   "metadata": {
    "_cell_guid": "7198750d-c9bb-48a2-8796-0de4bb4130dd",
    "_uuid": "388e4e3ef7e8fc65a3cdefe681e5fcd4f0397859"
   },
   "source": [
    "One of the most common method of dealing with both trend and seasonality is differencing. In this technique, we take the difference of the original observation at a particular instant with that at the previous instant. This mostly works well to improve stationarity. First order differencing can be done as follows:"
   ]
  },
  {
   "cell_type": "code",
   "execution_count": null,
   "metadata": {
    "_cell_guid": "07d5a3ba-6112-4497-a393-002777d1adb8",
    "_uuid": "f7afaef78f263dcc01668caea4ae539ec3c442c5"
   },
   "outputs": [],
   "source": [
    "mte_first_difference = mte - mte.shift(1)  \n",
    "TestStationaryPlot(mte_first_difference.dropna(inplace=False))"
   ]
  },
  {
   "cell_type": "code",
   "execution_count": null,
   "metadata": {
    "_cell_guid": "1dbcf295-d424-4f7a-a8a4-91b7167721ae",
    "_uuid": "9650103d050d7c98874d402d19c56a247ed3a91d"
   },
   "outputs": [],
   "source": [
    "TestStationaryAdfuller(mte_first_difference.dropna(inplace=False))"
   ]
  },
  {
   "cell_type": "markdown",
   "metadata": {
    "_cell_guid": "4ef679a6-6037-4b82-aea0-0dae38366405",
    "_uuid": "88b1d6f601da95c98cda88c30d3303e9568f7ab0"
   },
   "source": [
    "The first difference improves the stationarity of the series significantly. Let us use also the ***seasonal difference*** to remove the seasonality of the data and see how that impacts stationarity of the data."
   ]
  },
  {
   "cell_type": "code",
   "execution_count": null,
   "metadata": {
    "_cell_guid": "125318b2-548b-41df-8199-20b1671182bc",
    "_uuid": "9fca347179447d1c3b6e5942ae77e4b7c166e4b0"
   },
   "outputs": [],
   "source": [
    "mte_seasonal_difference = mte - mte.shift(12)  \n",
    "TestStationaryPlot(mte_seasonal_difference.dropna(inplace=False))\n",
    "TestStationaryAdfuller(mte_seasonal_difference.dropna(inplace=False))"
   ]
  },
  {
   "cell_type": "markdown",
   "metadata": {
    "_cell_guid": "6c65894f-0fdb-4f3e-a6b1-c10f566164a0",
    "_uuid": "d3244dc79f7e3ca29088dc8baca51fb794706a3d"
   },
   "source": [
    "Compared to the original data the seasonal difference also improves the stationarity of the series. The next step is to take the first difference of the seasonal difference."
   ]
  },
  {
   "cell_type": "code",
   "execution_count": null,
   "metadata": {
    "_cell_guid": "111b0c16-8732-4e6b-b727-d544459fba6c",
    "_uuid": "932ca3c877269d813971bcfcf3e5848c50ae9d7e"
   },
   "outputs": [],
   "source": [
    "mte_seasonal_first_difference = mte_first_difference - mte_first_difference.shift(12)  \n",
    "TestStationaryPlot(mte_seasonal_first_difference.dropna(inplace=False))"
   ]
  },
  {
   "cell_type": "code",
   "execution_count": null,
   "metadata": {
    "_cell_guid": "c57eba98-bd12-4de7-87ec-ea84725b7b6a",
    "_uuid": "f5fd2455490e6538a285435fd01b87de352ad533"
   },
   "outputs": [],
   "source": [
    "TestStationaryAdfuller(mte_seasonal_first_difference.dropna(inplace=False))"
   ]
  },
  {
   "cell_type": "markdown",
   "metadata": {
    "_cell_guid": "2cbefa2d-edad-4ea9-82c4-d57e637eaf23",
    "_uuid": "99545a57b2ee31ede5e4e428dc6aa08eea97e4c9"
   },
   "source": [
    "Now, if we look the Test Statistic and the p-value, taking the seasonal first difference has made our the time series dataset stationary. This differencing procedure could be repeated for the log values, but it didn’t make the dataset any more stationary."
   ]
  },
  {
   "cell_type": "markdown",
   "metadata": {
    "_cell_guid": "1f5cdff3-ec0a-4f6b-9961-d8ac3730391c",
    "_uuid": "8dcddf179bc0b9f4262f856e5acc5db688cbd7dc"
   },
   "source": [
    "## D) Eliminating trend and seasonality: Decomposing"
   ]
  },
  {
   "cell_type": "markdown",
   "metadata": {
    "_cell_guid": "30e4f44e-6707-4472-a968-ebe3dd80635f",
    "_uuid": "d5f0a74b3f4be04b24b2297399c420be48a891df"
   },
   "source": [
    "In this technique, it statrating by modeling both trend and seasonality and removing them from the model."
   ]
  },
  {
   "cell_type": "code",
   "execution_count": null,
   "metadata": {
    "_cell_guid": "6e853db2-523c-42c1-a382-a7ab5a3c8eb1",
    "_uuid": "7a2a31a1800c74b92a64b1d58b1e4110ab6eb53f"
   },
   "outputs": [],
   "source": [
    "from statsmodels.tsa.seasonal import seasonal_decompose\n",
    "decomposition = seasonal_decompose(mte)\n",
    "\n",
    "trend = decomposition.trend\n",
    "seasonal = decomposition.seasonal\n",
    "residual = decomposition.resid\n",
    "\n",
    "plt.subplot(411)\n",
    "plt.plot(mte, label='Original')\n",
    "plt.legend(loc='best')\n",
    "plt.subplot(412)\n",
    "plt.plot(trend, label='Trend')\n",
    "plt.legend(loc='best')\n",
    "plt.subplot(413)\n",
    "plt.plot(seasonal,label='Seasonality')\n",
    "plt.legend(loc='best')\n",
    "plt.subplot(414)\n",
    "plt.plot(residual, label='Residuals')\n",
    "plt.legend(loc='best')\n",
    "plt.tight_layout()"
   ]
  },
  {
   "cell_type": "markdown",
   "metadata": {
    "_cell_guid": "f3d0c3d1-1cfc-481d-a9d2-bcd5cd23d268",
    "_uuid": "504716accda56997875ea7370ae9931c34eec6ef"
   },
   "source": [
    "Here we can see that the trend, seasonality are separated out from data and we can model the residuals. Lets check stationarity of residuals:"
   ]
  },
  {
   "cell_type": "code",
   "execution_count": null,
   "metadata": {
    "_cell_guid": "fcd833c9-115a-45d9-a204-c002bbe09438",
    "_uuid": "6a74eb6f1843daf582169125f34539e8a67f9f52"
   },
   "outputs": [],
   "source": [
    "mte_decompose = residual\n",
    "mte_decompose.dropna(inplace=True)\n",
    "TestStationaryPlot(mte_decompose)\n",
    "TestStationaryAdfuller(mte_decompose)"
   ]
  },
  {
   "cell_type": "markdown",
   "metadata": {
    "_cell_guid": "614fb86a-74a3-4048-aa5a-31bdbe728963",
    "_uuid": "55c2452dfd05890053cbb57de292d829c9f988c1"
   },
   "source": [
    "# 6) Find optimal parameters and build SARIMA model"
   ]
  },
  {
   "cell_type": "markdown",
   "metadata": {
    "_cell_guid": "1b509ed4-8042-4e7a-a50c-c22b10fa8564",
    "_uuid": "fb866da0c5724f941792dce2464a32712ab4797e"
   },
   "source": [
    "When looking to fit time series dataset with seasonal ARIMA model, our first goal is to find the values of SARIMA(p,d,q)(P,D,Q)s that optimize our metric of interest. Before moving directly how to find the optimal values of the parameters let us see the two situations in stationarities: A strictly stationary series with no dependence among the values. This is the easy case wherein we can model the residuals as **white noise.** The second case being a series with significant dependence among values and needs statistical models like ARIMA to forecast future oucomes.\n",
    "\n",
    "**Auto-Regressive Integrated Moving Average (ARIMA)**: The ARIMA forecasting for a stationary time series is a linear funcion similar to linear regression. The predictors mainly depend on the parameters (p,d,q) of the ARIMA model:\n",
    "\n",
    "* Number of **Auto-Regressive (AR) terms (p)**: AR terms are just lags of dependent variable. For instance if p is 4, the predictors for x(t) will depend on x(t-1)….x(t-4).  This term allows us to incorporate the effect of past values into our model. This would be similar to stating that the weather is likely to be warm tomorrow if it has been warm the past 4 days.\n",
    "* Number of **Moving Average(MA) terms (q)**: MA terms are lagged forecast errors in prediction function. This term allows us to set the error of our model as a linear combination of the error values observed at previous time points in the past. For instance if q is 4, the predictors for x(t) will be e(t-1)….e(t-4) where e(i) is the difference between the moving average at ith instant and actual value.\n",
    "* Number of** Differences (d)**: These are the number of nonseasonal differences, i.e.,  if we took the first order difference. So either we can pass the first order difference variable and put d=0 or pass the original observed variable and put d=1. Both will generate same results. This term explains the number of past time points to subtract from the current value. This would be similar to stating that it is likely to be same temperature tomorrow if the difference in temperature in the last three days has been very small."
   ]
  },
  {
   "cell_type": "markdown",
   "metadata": {
    "_cell_guid": "eed808d7-4b70-4134-afa3-b975cfb43b4b",
    "_uuid": "46a70ea87b5a47f920422e3f8fde23abf052fb0e"
   },
   "source": [
    "# 6.1 Plot the ACF and PACF charts and find the optimal parameters"
   ]
  },
  {
   "cell_type": "markdown",
   "metadata": {
    "_cell_guid": "ec498328-cb27-4a06-b500-f0d8f0a6bf04",
    "_uuid": "2d37e814a93af5286a44fc6511aefac32f2a6301"
   },
   "source": [
    "* **Autocorrelation Function (ACF)**: It is a measure of the correlation between the the time series (ts) with a lagged version of itself. For instance at lag 4, ACF would compare series at time instant ‘t1’…’t2’ with series at instant ‘t1-4’…’t2-4’ (t1-4 and t2 being end points of the range).\n",
    "* **Partial Autocorrelation Function (PACF)**: This measures the correlation between the ts with a lagged version of itself but after eliminating the variations already explained by the intervening comparisons. Eg at lag 4, it will check the correlation but remove the effects already explained by lags 1 to  3.\n",
    "\n",
    "Therefore, the next step will be determing the tuning parameters (p and q) of the model by looking at the autocorrelation and partial autocorrelation graphs.  The chart below provides a brief guide on how to read the autocorrelation and partial autocorrelation graphs inorder to select the parameters. "
   ]
  },
  {
   "cell_type": "code",
   "execution_count": null,
   "metadata": {
    "_cell_guid": "e6ae22a2-0cff-4e66-9d7e-bd88bec8869b",
    "_uuid": "37d33de94ffee0043ac78c9e2e3f01cd30790288"
   },
   "outputs": [],
   "source": [
    "fig = plt.figure(figsize=(12,8))\n",
    "ax1 = fig.add_subplot(211)\n",
    "fig = sm.graphics.tsa.plot_acf(mte_seasonal_first_difference.iloc[13:], lags=40, ax=ax1)\n",
    "ax2 = fig.add_subplot(212)\n",
    "fig = sm.graphics.tsa.plot_pacf(mte_seasonal_first_difference.iloc[13:], lags=40, ax=ax2)"
   ]
  },
  {
   "cell_type": "markdown",
   "metadata": {
    "_cell_guid": "bd8bf07d-30c0-400a-9007-63ada6c021ff",
    "_uuid": "ae7a4c00dd1a637d401dfed0aeff1550364a55de"
   },
   "source": [
    "# 6.2 Grid search "
   ]
  },
  {
   "cell_type": "markdown",
   "metadata": {
    "_cell_guid": "29471c38-d3b4-4227-8b85-485b67c5c782",
    "_uuid": "0180969572c2799258a431e92ec50c4bead0c455",
    "collapsed": true
   },
   "source": [
    "To find the optimal parameters for ARIMA models using the graphical method is not trivial and it is time consuming. We will select the optimal parameter values systematically using the grid search (hyperparameter optimization) method. The grid search iteratively explore different combinations of the parameters. For each combination of parameters, we will fit a new seasonal ARIMA model with the SARIMAX() function from the statsmodels module and assess its overall quality. Once we have explored the entire landscape of parameters, our optimal set of parameters will be the one that yields the best performance for our criteria of interest. Let's begin by generating the various combination of parameters that we wish to assess:"
   ]
  },
  {
   "cell_type": "code",
   "execution_count": null,
   "metadata": {
    "_cell_guid": "7913e441-ef9c-4658-958a-2ec9e18fc870",
    "_uuid": "270296f5d83824bd35110b00d6136540cf1c78a9"
   },
   "outputs": [],
   "source": [
    "p = d = q = range(0, 2) # Define the p, d and q parameters to take any value between 0 and 2\n",
    "pdq = list(itertools.product(p, d, q)) # Generate all different combinations of p, q and q triplets\n",
    "pdq_x_QDQs = [(x[0], x[1], x[2], 12) for x in list(itertools.product(p, d, q))] # Generate all different combinations of seasonal p, q and q triplets\n",
    "print('Examples of Seasonal ARIMA parameter combinations for Seasonal ARIMA...')\n",
    "print('SARIMAX: {} x {}'.format(pdq[1], pdq_x_QDQs[1]))\n",
    "print('SARIMAX: {} x {}'.format(pdq[2], pdq_x_QDQs[2]))"
   ]
  },
  {
   "cell_type": "markdown",
   "metadata": {
    "_cell_guid": "0dfd817a-56a5-41f6-8242-7f683d2bc79e",
    "_uuid": "fde8240b3d83a0b4180fa99b5bdef0c1d6af28e7",
    "collapsed": true
   },
   "source": [
    "\n",
    "When evaluating and comparing statistical models fitted with different parameters, each can be ranked against one another based on how well it fits the data or its ability to accurately predict future data points. We will use the AIC (Akaike Information Criterion) value, which is conveniently returned with ARIMA models fitted using statsmodels. The AIC measures how well a model fits the data while taking into account the overall complexity of the model. A model that fits the data very well while using lots of features will be assigned a larger AIC score than a model that uses fewer features to achieve the same goodness-of-fit. The lowest AIC  refore, we are interested in finding the model that yields the lowest AIC value.\n",
    "\n",
    "The order argument specifies the (p, d, q) parameters, while the seasonal_order argument specifies the (P, D, Q, S) seasonal component of the Seasonal ARIMA model. After fitting each SARIMAX()model, the code prints out its respective AIC score."
   ]
  },
  {
   "cell_type": "code",
   "execution_count": null,
   "metadata": {
    "_cell_guid": "41353237-2d0c-45e0-9bad-c260de3b0bc4",
    "_uuid": "70cf6e957ac9cd35390666cd78a5138d273393b8",
    "collapsed": true
   },
   "outputs": [],
   "source": [
    "for param in pdq:\n",
    "    for seasonal_param in pdq_x_QDQs:\n",
    "        try:\n",
    "            mod = sm.tsa.statespace.SARIMAX(mte,\n",
    "                                            order=param,\n",
    "                                            seasonal_order=seasonal_param,\n",
    "                                            enforce_stationarity=False,\n",
    "                                            enforce_invertibility=False)\n",
    "            results = mod.fit()\n",
    "            print('ARIMA{}x{} - AIC:{}'.format(param, param_seasonal, results.aic))\n",
    "        except:\n",
    "            continue\n"
   ]
  },
  {
   "cell_type": "markdown",
   "metadata": {
    "_cell_guid": "e88f3603-2fe4-4523-8798-0ba779057936",
    "_uuid": "71090d168739921c6856eb9d78a910d7a7361c2f"
   },
   "source": [
    "SARIMAX(1, 1, 1)x(0, 1, 1, 12) yields the lowest AIC value of 2003.553. Therefore, we will consider this to be optimal option out of all the parameter combinations.W e have identified the set of parameters that produces the best fitting model to our time series data. We can proceed to analyze this particular model in more depth."
   ]
  },
  {
   "cell_type": "code",
   "execution_count": null,
   "metadata": {
    "_cell_guid": "0b6d99e2-c920-4eac-8bac-8486a1147505",
    "_uuid": "bd0258c1214970082a49c0d784ee9e9c359b78c1"
   },
   "outputs": [],
   "source": [
    "mod = sm.tsa.statespace.SARIMAX(mte, \n",
    "                                order=(1,1,1), \n",
    "                                seasonal_order=(0,1,1,12),   \n",
    "                                enforce_stationarity=False,\n",
    "                                enforce_invertibility=False)\n",
    "results = mod.fit()\n",
    "print(results.summary())"
   ]
  },
  {
   "cell_type": "markdown",
   "metadata": {
    "_cell_guid": "a918e66c-544a-4f4c-a6d2-6c3aeb5e4f91",
    "_uuid": "f9459a5056d32b740c091618d08f7ea0654c4ada"
   },
   "source": [
    "The coef column shows the weight (i.e. importance) of each feature and how each one impacts the time series. The P>|z| column informs us of the significance of each feature weight. Here, each weight has a p-value close to 0, so it is reasonable to include the features in our model.\n",
    "\n",
    "When fitting seasonal ARIMA models, it is important to run model diagnostics to ensure that none of the assumptions made by the model have been violated. First, we get a line plot of the residual errors, suggesting that there may still be some trend information not captured by the model."
   ]
  },
  {
   "cell_type": "code",
   "execution_count": null,
   "metadata": {
    "_cell_guid": "4ad8e5ec-f21b-4ef2-b20c-01f3acb6368d",
    "_uuid": "7dc4de557d57f925873c9e5468fd0d169f8174c5"
   },
   "outputs": [],
   "source": [
    "results.resid.plot()"
   ]
  },
  {
   "cell_type": "code",
   "execution_count": null,
   "metadata": {
    "_cell_guid": "c8187159-249d-4064-b09a-6c02e71f08a5",
    "_uuid": "f8b5d7165e1f6bdbbbb3f94c1fd9bb97b4622e80"
   },
   "outputs": [],
   "source": [
    "print(results.resid.describe())"
   ]
  },
  {
   "cell_type": "markdown",
   "metadata": {
    "_cell_guid": "32e6f8a1-6de1-415f-b974-0b3b0bdd8276",
    "_uuid": "4155ba69698a14c9d097def52fb7a7e5377ab44d"
   },
   "source": [
    "The figure displays the distribution of the residual errors. It shows a little bias in the prediction. Next, we get a density plot of the residual error values, suggesting the errors are Gaussian, but may not be centered on zero."
   ]
  },
  {
   "cell_type": "code",
   "execution_count": null,
   "metadata": {
    "_cell_guid": "e7af997b-d887-4fd6-b853-c9bc71133b84",
    "_uuid": "eeba2a6e6bb983047f650311b6df53db68601f79"
   },
   "outputs": [],
   "source": [
    "results.resid.plot(kind='kde')"
   ]
  },
  {
   "cell_type": "markdown",
   "metadata": {
    "_cell_guid": "686bd31d-5ef1-48eb-8849-36a5e3865788",
    "_uuid": "ff565ad30fb317d758402e3897b85d258be64d58"
   },
   "source": [
    "The plot_diagnostics object allows us to quickly generate model diagnostics and investigate for any unusual behavior."
   ]
  },
  {
   "cell_type": "code",
   "execution_count": null,
   "metadata": {
    "_cell_guid": "2c9626bf-68c8-4111-b062-0ea5f16ff08f",
    "_uuid": "47ad5e28a4d3fee7183ce7a33257a20610f64d6f"
   },
   "outputs": [],
   "source": [
    "results.plot_diagnostics(figsize=(15, 12))\n",
    "plt.show()"
   ]
  },
  {
   "cell_type": "markdown",
   "metadata": {
    "_cell_guid": "d79ee91f-023c-4d10-9436-5a480a2dd3f2",
    "_uuid": "63a178322399b323d452ee34cf3fb7c24e1cbdbe"
   },
   "source": [
    "Our primary concern is to ensure that the residuals of our model are uncorrelated and normally distributed with zero-mean. If the seasonal ARIMA model does not satisfy these properties, it is a good indication that it can be further improved."
   ]
  },
  {
   "cell_type": "markdown",
   "metadata": {
    "_cell_guid": "0089ccf5-23ae-4c28-9346-ea17cdefdebc",
    "_uuid": "6ac58555f91543169318743642f856ecf0103512"
   },
   "source": [
    "The model diagnostic suggests that the model residual is normally distributed based on the following:\n",
    "\n",
    "- In the top right plot, the red KDE line follows closely with the N(0,1) line. Where, N(0,1) is the standard notation for a normal distribution with mean 0 and standard deviation of 1. This is a good indication that the residuals are normally distributed. The forecast errors deviate somewhat from the straight line, indicating that the normal distribution is not a perfect model for the distribution of forecast errors, but it is not unreasonable.\n",
    "- The qq-plot on the bottom left shows that the ordered distribution of residuals (blue dots) follows the linear trend of the samples taken from a standard normal distribution. Again, this is a strong indication that the residuals are normally distributed.\n",
    "- The residuals over time (top left plot) don't display any obvious seasonality and appear to be white noise. This is confirmed by the autocorrelation (i.e. correlogram) plot on the bottom right, which shows that the time series residuals have low correlation with lagged versions of itself.\n",
    "\n",
    "Those observations lead us to conclude that our model produces a satisfactory fit that could help us understand our time series data and forecast future values."
   ]
  },
  {
   "cell_type": "markdown",
   "metadata": {
    "_cell_guid": "a9cfc950-938b-453a-a0cd-cfaf3c7de9b7",
    "_uuid": "508b297b162e41e01b9a53a1cb5ab987a7173b66"
   },
   "source": [
    "# 7) Validating prediction"
   ]
  },
  {
   "cell_type": "markdown",
   "metadata": {
    "_cell_guid": "089fa6ec-f4a1-48aa-bda9-018734b1f984",
    "_uuid": "3aab78ebfbbef2a316245756686962aaf3ca0a79"
   },
   "source": [
    "We have obtained a model for our time series that can now be used to produce forecasts. We start by comparing predicted values to real values of the time series, which will help us understand the accuracy of our forecast. The get_prediction() and conf_int() attributes allow us to obtain the values and associated confidence intervals for forecasts of the time series."
   ]
  },
  {
   "cell_type": "code",
   "execution_count": null,
   "metadata": {
    "_cell_guid": "9878aa60-8102-4df3-a2c8-5e1b74b03f7c",
    "_uuid": "7d1f1eb5c073a93667ec4f09886f7c2abec13f7a"
   },
   "outputs": [],
   "source": [
    "pred = results.get_prediction(start = 480, end = 523, dynamic=False)\n",
    "pred_ci = pred.conf_int()\n",
    "pred_ci.head()"
   ]
  },
  {
   "cell_type": "markdown",
   "metadata": {
    "_cell_guid": "4f6c9897-39c9-42de-84e4-00cfc536e4b9",
    "_uuid": "704f67cc9469be44bd0d945992009a679f841c1b"
   },
   "source": [
    "The dynamic=False argument ensures that we produce one-step ahead forecasts, meaning that forecasts at each point are generated using the full history up to that point.\n",
    "\n",
    "We can plot the real and forecasted values of the CO2 emission time series to assess how well the model fits."
   ]
  },
  {
   "cell_type": "code",
   "execution_count": null,
   "metadata": {
    "_cell_guid": "cd82aa05-e2bf-4a0a-96b0-47b9e3e55b00",
    "_uuid": "4ecb03ba00102201406ea2d12e55372b98f49841"
   },
   "outputs": [],
   "source": [
    "ax = mte['1973':].plot(label='observed')\n",
    "pred.predicted_mean.plot(ax=ax, label='One-step ahead forecast', alpha=.7)\n",
    "\n",
    "ax.fill_between(pred_ci.index,\n",
    "                pred_ci.iloc[:, 0],\n",
    "                pred_ci.iloc[:, 1], color='r', alpha=.5)\n",
    "\n",
    "ax.set_xlabel('Time (years)')\n",
    "ax.set_ylabel('NG CO2 Emissions')\n",
    "plt.legend()\n",
    "\n",
    "plt.show()"
   ]
  },
  {
   "cell_type": "markdown",
   "metadata": {
    "_cell_guid": "9f0bf30a-c35f-42eb-bdd6-9e80f6e22d51",
    "_uuid": "29dffaaf3316c8f18ad3108e07ec154269cda0fb",
    "collapsed": true
   },
   "source": [
    "Overall, our forecasts align with the true values very well, showing an overall similar behavior.\n",
    "\n",
    "It is also useful to quantify the accuracy of our forecasts. We will use the MSE (Mean Squared Error), which summarizes the average error of our forecasts. For each predicted value, we compute its distance to the true value and square the result. The results need to be squared so that positive/negative differences do not cancel each other out."
   ]
  },
  {
   "cell_type": "code",
   "execution_count": null,
   "metadata": {
    "_cell_guid": "657d8e9c-87ab-469b-8a54-0b732bad63f4",
    "_uuid": "3738c752822c9bfa2ed8029ac7601f847cb8239d"
   },
   "outputs": [],
   "source": [
    "mte_forecast = pred.predicted_mean\n",
    "mte_truth = mte['2013-01-31':]\n",
    "\n",
    "# Compute the mean square error\n",
    "mse = ((mte_forecast - mte_truth) ** 2).mean()\n",
    "print('The Mean Squared Error (MSE) of the forecast is {}'.format(round(mse, 2)))\n",
    "print('The Root Mean Square Error (RMSE) of the forcast: {:.4f}'\n",
    "      .format(np.sqrt(sum((mte_forecast-mte_truth)**2)/len(mte_forecast))))"
   ]
  },
  {
   "cell_type": "code",
   "execution_count": null,
   "metadata": {
    "_cell_guid": "98937e89-c54b-4f85-b257-b978fbcc4ec3",
    "_uuid": "e27738671baa5233943e2066930c401007cc0e23",
    "collapsed": true
   },
   "outputs": [],
   "source": [
    "mte_pred_concat = pd.concat([mte_truth, mte_forecast])"
   ]
  },
  {
   "cell_type": "markdown",
   "metadata": {
    "_cell_guid": "90a751a9-4bdd-4afe-b4be-039a44d5c01a",
    "_uuid": "69245f4a82b0377d7791ab98df05c26744a11abf"
   },
   "source": [
    "The goal of developing the model is to get a good quality predictive power using dynamic forecast. That is, we use information from the time series up to a certain point, and after that, forecasts are generated using values from previous forecasted time points as follows:"
   ]
  },
  {
   "cell_type": "code",
   "execution_count": null,
   "metadata": {
    "_cell_guid": "02e6c076-2567-415a-ac48-1d58a2ed2c26",
    "_uuid": "bf2cbd9082a5429866d127580b719c42f4090174",
    "collapsed": true
   },
   "outputs": [],
   "source": [
    "pred_dynamic = results.get_prediction(start=pd.to_datetime('2013-01-31'), dynamic=True, full_results=True)\n",
    "pred_dynamic_ci = pred_dynamic.conf_int()"
   ]
  },
  {
   "cell_type": "markdown",
   "metadata": {
    "_cell_guid": "bf3930f3-d641-49f3-b4fb-7cc362955f50",
    "_uuid": "c4b1541c29e5a1e26dc26e3c9abf538bbb7cd37b"
   },
   "source": [
    "From, plotting the observed and forecasted values of the time series, we see that the overall forecasts are accurate even when we use the dynamic forecast. All forecasted values (red line) match closely to the orginal observed (blue line) data, and are well within the confidence intervals of our forecast."
   ]
  },
  {
   "cell_type": "code",
   "execution_count": null,
   "metadata": {
    "_cell_guid": "6b807bfc-b0e5-4ee3-9867-5318b6371b4d",
    "_uuid": "bdff8fd1e2e73e3a1576988610a07f65e5007510"
   },
   "outputs": [],
   "source": [
    "ax = mte['1973':].plot(label='observed', figsize=(20, 15))\n",
    "pred_dynamic.predicted_mean.plot(label='Dynamic Forecast', ax=ax)\n",
    "\n",
    "ax.fill_between(pred_dynamic_ci.index,\n",
    "                pred_dynamic_ci.iloc[:, 0],\n",
    "                pred_dynamic_ci.iloc[:, 1], \n",
    "                color='r', \n",
    "                alpha=.3)\n",
    "\n",
    "ax.fill_betweenx(ax.get_ylim(), \n",
    "                 pd.to_datetime('2013-01-31'), \n",
    "                 mte.index[-1],\n",
    "                 alpha=.1, zorder=-1)\n",
    "\n",
    "ax.set_xlabel('Time (years)')\n",
    "ax.set_ylabel('CO2 Emissions')\n",
    "\n",
    "plt.legend()\n",
    "plt.show()"
   ]
  },
  {
   "cell_type": "code",
   "execution_count": null,
   "metadata": {
    "_cell_guid": "69ac6bc4-f5d8-41d6-a03f-b73385649adf",
    "_uuid": "38cd0bb44e9e7921b122380e7edb5942090f8399",
    "scrolled": true
   },
   "outputs": [],
   "source": [
    "# Extract the predicted and true values of our time series\n",
    "mte_forecast = pred_dynamic.predicted_mean\n",
    "mte_orginal = mte['2013-01-31':]\n",
    "\n",
    "# Compute the mean square error\n",
    "mse = ((mte_forecast - mte_orginal) ** 2).mean()\n",
    "print('The Mean Squared Error (MSE) of the forecast is {}'.format(round(mse, 2)))\n",
    "print('The Root Mean Square Error (RMSE) of the forcast: {:.4f}'\n",
    "      .format(np.sqrt(sum((mte_forecast-mte_orginal)**2)/len(mte_forecast))))"
   ]
  },
  {
   "cell_type": "markdown",
   "metadata": {
    "_cell_guid": "f1239fa7-5099-48d8-ab10-e350b5645a6f",
    "_uuid": "41d53f9c0ac6e395900d939b1b918f27ee386763"
   },
   "source": [
    "# 8) Forecasting"
   ]
  },
  {
   "cell_type": "code",
   "execution_count": null,
   "metadata": {
    "_cell_guid": "d3f7b351-2624-4067-b519-afc4278cf695",
    "_uuid": "8a2ef7bf77fa3832d20d7fa85c7b5d4a0788861a"
   },
   "outputs": [],
   "source": [
    "# Get forecast of 10 years or 120 months steps ahead in future\n",
    "forecast = results.get_forecast(steps= 120)\n",
    "# Get confidence intervals of forecasts\n",
    "forecast_ci = forecast.conf_int()\n",
    "forecast_ci.head()"
   ]
  },
  {
   "cell_type": "markdown",
   "metadata": {
    "_cell_guid": "464741fb-d20b-422a-a1bf-1d2397db9e9a",
    "_uuid": "9172c6fd280ddc44ffb197ea1fae70c5ad0148e9"
   },
   "source": [
    "We can use the output of this code to plot the time series and forecasts of its future values."
   ]
  },
  {
   "cell_type": "code",
   "execution_count": null,
   "metadata": {
    "_cell_guid": "9480557d-050e-4daa-80f8-4beeffcca74e",
    "_uuid": "c26e3cd36617c739f417a31c2e26341347daf646"
   },
   "outputs": [],
   "source": [
    "ax = mte.plot(label='observed', figsize=(20, 15))\n",
    "forecast.predicted_mean.plot(ax=ax, label='Forecast')\n",
    "ax.fill_between(forecast_ci.index,\n",
    "                forecast_ci.iloc[:, 0],\n",
    "                forecast_ci.iloc[:, 1], color='g', alpha=.4)\n",
    "ax.set_xlabel('Time (year)')\n",
    "ax.set_ylabel('NG CO2 Emission level')\n",
    "\n",
    "plt.legend()\n",
    "plt.show()"
   ]
  },
  {
   "cell_type": "markdown",
   "metadata": {
    "_cell_guid": "7aa64bb4-3c7c-4762-8ec3-248507c83382",
    "_uuid": "3333d211dd8677e7e6f05e605d253c4ef847305d"
   },
   "source": [
    "Both the forecast and associated confidence interval that we have generated can now be used to further explore and understand the time series. The forecast shows that the CO2 emission from natural gas power generation is expected to continue increasing."
   ]
  },
  {
   "cell_type": "markdown",
   "metadata": {
    "_cell_guid": "15c6ff81-b1e0-48a7-a57e-c2fe9b5f6c7d",
    "_uuid": "40ffe379ce32265c7f4f8b7f1053bffaec40f3e9"
   },
   "source": [
    "# 9) Conclusion"
   ]
  },
  {
   "cell_type": "markdown",
   "metadata": {
    "_cell_guid": "82bd03f9-79b0-44c6-9c82-8329898f3458",
    "_uuid": "1c86f36a055b618aa26cbb7555d820dd675a1fb7"
   },
   "source": [
    "In this notebook, I have explored how to retrieve CSV dataset, how to transform the dataset into times series, testing if the time series is stationary or not using graphical and Dickey-Fuller test statistic methods, how to transform time series to stationary, how to find optimal parameters to build SARIMA model using grid search method, diagnosing time series prediction, validating the predictive power, forecasting 10 year future CO2 emission from power generation using natural gas.\n",
    "\n",
    "Future work: developing a time series model of natural gas forecasing\n"
   ]
  },
  {
   "cell_type": "markdown",
   "metadata": {
    "_cell_guid": "5099b2b4-8ebe-4594-85e9-648e01306478",
    "_uuid": "602cd957e3e35fedefeae699f48ffcae30faf4f6",
    "collapsed": true
   },
   "source": [
    "Suggestion, comments and questions are welcome! "
   ]
  }
 ],
 "metadata": {
  "kernelspec": {
   "display_name": "Python 3",
   "language": "python",
   "name": "python3"
  },
  "language_info": {
   "codemirror_mode": {
    "name": "ipython",
    "version": 3
   },
   "file_extension": ".py",
   "mimetype": "text/x-python",
   "name": "python",
   "nbconvert_exporter": "python",
   "pygments_lexer": "ipython3",
   "version": "3.7.6"
  }
 },
 "nbformat": 4,
 "nbformat_minor": 1
}
