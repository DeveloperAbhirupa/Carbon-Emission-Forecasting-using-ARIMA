{
 "cells": [
  {
   "cell_type": "code",
   "execution_count": null,
   "metadata": {},
   "outputs": [],
   "source": []
  }
 ],
 "metadata": {
  "kernelspec": {
   "display_name": "Python 3.8.5 64-bit",
   "language": "python",
   "name": "python38564bit5197de5a35214db59e08ac2d2ac54193"
  }
 },
 "nbformat": 4,
 "nbformat_minor": 4
}
